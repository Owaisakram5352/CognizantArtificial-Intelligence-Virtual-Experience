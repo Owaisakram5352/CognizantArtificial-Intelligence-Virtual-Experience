{
 "cells": [
  {
   "cell_type": "code",
   "execution_count": 1,
   "id": "15b95207",
   "metadata": {},
   "outputs": [
    {
     "data": {
      "text/html": [
       "<div>\n",
       "<style scoped>\n",
       "    .dataframe tbody tr th:only-of-type {\n",
       "        vertical-align: middle;\n",
       "    }\n",
       "\n",
       "    .dataframe tbody tr th {\n",
       "        vertical-align: top;\n",
       "    }\n",
       "\n",
       "    .dataframe thead th {\n",
       "        text-align: right;\n",
       "    }\n",
       "</style>\n",
       "<table border=\"1\" class=\"dataframe\">\n",
       "  <thead>\n",
       "    <tr style=\"text-align: right;\">\n",
       "      <th></th>\n",
       "      <th>transaction_id</th>\n",
       "      <th>timestamp</th>\n",
       "      <th>product_id</th>\n",
       "      <th>category</th>\n",
       "      <th>customer_type</th>\n",
       "      <th>unit_price</th>\n",
       "      <th>quantity</th>\n",
       "      <th>total</th>\n",
       "      <th>payment_type</th>\n",
       "    </tr>\n",
       "  </thead>\n",
       "  <tbody>\n",
       "    <tr>\n",
       "      <th>0</th>\n",
       "      <td>a1c82654-c52c-45b3-8ce8-4c2a1efe63ed</td>\n",
       "      <td>2022-03-02 09:51:38</td>\n",
       "      <td>3bc6c1ea-0198-46de-9ffd-514ae3338713</td>\n",
       "      <td>fruit</td>\n",
       "      <td>gold</td>\n",
       "      <td>3.99</td>\n",
       "      <td>2</td>\n",
       "      <td>7.98</td>\n",
       "      <td>e-wallet</td>\n",
       "    </tr>\n",
       "    <tr>\n",
       "      <th>1</th>\n",
       "      <td>931ad550-09e8-4da6-beaa-8c9d17be9c60</td>\n",
       "      <td>2022-03-06 10:33:59</td>\n",
       "      <td>ad81b46c-bf38-41cf-9b54-5fe7f5eba93e</td>\n",
       "      <td>fruit</td>\n",
       "      <td>standard</td>\n",
       "      <td>3.99</td>\n",
       "      <td>1</td>\n",
       "      <td>3.99</td>\n",
       "      <td>e-wallet</td>\n",
       "    </tr>\n",
       "    <tr>\n",
       "      <th>2</th>\n",
       "      <td>ae133534-6f61-4cd6-b6b8-d1c1d8d90aea</td>\n",
       "      <td>2022-03-04 17:20:21</td>\n",
       "      <td>7c55cbd4-f306-4c04-a030-628cbe7867c1</td>\n",
       "      <td>fruit</td>\n",
       "      <td>premium</td>\n",
       "      <td>0.19</td>\n",
       "      <td>2</td>\n",
       "      <td>0.38</td>\n",
       "      <td>e-wallet</td>\n",
       "    </tr>\n",
       "    <tr>\n",
       "      <th>3</th>\n",
       "      <td>157cebd9-aaf0-475d-8a11-7c8e0f5b76e4</td>\n",
       "      <td>2022-03-02 17:23:58</td>\n",
       "      <td>80da8348-1707-403f-8be7-9e6deeccc883</td>\n",
       "      <td>fruit</td>\n",
       "      <td>gold</td>\n",
       "      <td>0.19</td>\n",
       "      <td>4</td>\n",
       "      <td>0.76</td>\n",
       "      <td>e-wallet</td>\n",
       "    </tr>\n",
       "    <tr>\n",
       "      <th>4</th>\n",
       "      <td>a81a6cd3-5e0c-44a2-826c-aea43e46c514</td>\n",
       "      <td>2022-03-05 14:32:43</td>\n",
       "      <td>7f5e86e6-f06f-45f6-bf44-27b095c9ad1d</td>\n",
       "      <td>fruit</td>\n",
       "      <td>basic</td>\n",
       "      <td>4.49</td>\n",
       "      <td>2</td>\n",
       "      <td>8.98</td>\n",
       "      <td>debit card</td>\n",
       "    </tr>\n",
       "  </tbody>\n",
       "</table>\n",
       "</div>"
      ],
      "text/plain": [
       "                         transaction_id            timestamp  \\\n",
       "0  a1c82654-c52c-45b3-8ce8-4c2a1efe63ed  2022-03-02 09:51:38   \n",
       "1  931ad550-09e8-4da6-beaa-8c9d17be9c60  2022-03-06 10:33:59   \n",
       "2  ae133534-6f61-4cd6-b6b8-d1c1d8d90aea  2022-03-04 17:20:21   \n",
       "3  157cebd9-aaf0-475d-8a11-7c8e0f5b76e4  2022-03-02 17:23:58   \n",
       "4  a81a6cd3-5e0c-44a2-826c-aea43e46c514  2022-03-05 14:32:43   \n",
       "\n",
       "                             product_id category customer_type  unit_price  \\\n",
       "0  3bc6c1ea-0198-46de-9ffd-514ae3338713    fruit          gold        3.99   \n",
       "1  ad81b46c-bf38-41cf-9b54-5fe7f5eba93e    fruit      standard        3.99   \n",
       "2  7c55cbd4-f306-4c04-a030-628cbe7867c1    fruit       premium        0.19   \n",
       "3  80da8348-1707-403f-8be7-9e6deeccc883    fruit          gold        0.19   \n",
       "4  7f5e86e6-f06f-45f6-bf44-27b095c9ad1d    fruit         basic        4.49   \n",
       "\n",
       "   quantity  total payment_type  \n",
       "0         2   7.98     e-wallet  \n",
       "1         1   3.99     e-wallet  \n",
       "2         2   0.38     e-wallet  \n",
       "3         4   0.76     e-wallet  \n",
       "4         2   8.98   debit card  "
      ]
     },
     "execution_count": 1,
     "metadata": {},
     "output_type": "execute_result"
    }
   ],
   "source": [
    "import pandas as pd\n",
    "path = \"sample_sales_data.csv\"\n",
    "df = pd.read_csv(path)\n",
    "df.drop(columns=[\"Unnamed: 0\"], inplace=True, errors='ignore')\n",
    "df.head()"
   ]
  },
  {
   "cell_type": "code",
   "execution_count": 2,
   "id": "7d3482ec",
   "metadata": {},
   "outputs": [
    {
     "name": "stdout",
     "output_type": "stream",
     "text": [
      "<class 'pandas.core.frame.DataFrame'>\n",
      "RangeIndex: 7829 entries, 0 to 7828\n",
      "Data columns (total 9 columns):\n",
      " #   Column          Non-Null Count  Dtype  \n",
      "---  ------          --------------  -----  \n",
      " 0   transaction_id  7829 non-null   object \n",
      " 1   timestamp       7829 non-null   object \n",
      " 2   product_id      7829 non-null   object \n",
      " 3   category        7829 non-null   object \n",
      " 4   customer_type   7829 non-null   object \n",
      " 5   unit_price      7829 non-null   float64\n",
      " 6   quantity        7829 non-null   int64  \n",
      " 7   total           7829 non-null   float64\n",
      " 8   payment_type    7829 non-null   object \n",
      "dtypes: float64(2), int64(1), object(6)\n",
      "memory usage: 550.6+ KB\n"
     ]
    }
   ],
   "source": [
    "df.info()"
   ]
  },
  {
   "cell_type": "code",
   "execution_count": 3,
   "id": "dda10216",
   "metadata": {},
   "outputs": [],
   "source": [
    "df[\"timestamp\"] = pd.to_datetime(df[\"timestamp\"])"
   ]
  },
  {
   "cell_type": "code",
   "execution_count": 4,
   "id": "84a6fa4f",
   "metadata": {},
   "outputs": [
    {
     "name": "stdout",
     "output_type": "stream",
     "text": [
      "<class 'pandas.core.frame.DataFrame'>\n",
      "RangeIndex: 7829 entries, 0 to 7828\n",
      "Data columns (total 9 columns):\n",
      " #   Column          Non-Null Count  Dtype         \n",
      "---  ------          --------------  -----         \n",
      " 0   transaction_id  7829 non-null   object        \n",
      " 1   timestamp       7829 non-null   datetime64[ns]\n",
      " 2   product_id      7829 non-null   object        \n",
      " 3   category        7829 non-null   object        \n",
      " 4   customer_type   7829 non-null   object        \n",
      " 5   unit_price      7829 non-null   float64       \n",
      " 6   quantity        7829 non-null   int64         \n",
      " 7   total           7829 non-null   float64       \n",
      " 8   payment_type    7829 non-null   object        \n",
      "dtypes: datetime64[ns](1), float64(2), int64(1), object(5)\n",
      "memory usage: 550.6+ KB\n"
     ]
    }
   ],
   "source": [
    "df.info()"
   ]
  },
  {
   "cell_type": "code",
   "execution_count": 5,
   "id": "2afe2b30",
   "metadata": {},
   "outputs": [
    {
     "data": {
      "text/html": [
       "<div>\n",
       "<style scoped>\n",
       "    .dataframe tbody tr th:only-of-type {\n",
       "        vertical-align: middle;\n",
       "    }\n",
       "\n",
       "    .dataframe tbody tr th {\n",
       "        vertical-align: top;\n",
       "    }\n",
       "\n",
       "    .dataframe thead th {\n",
       "        text-align: right;\n",
       "    }\n",
       "</style>\n",
       "<table border=\"1\" class=\"dataframe\">\n",
       "  <thead>\n",
       "    <tr style=\"text-align: right;\">\n",
       "      <th></th>\n",
       "      <th>unit_price</th>\n",
       "      <th>quantity</th>\n",
       "      <th>total</th>\n",
       "    </tr>\n",
       "  </thead>\n",
       "  <tbody>\n",
       "    <tr>\n",
       "      <th>count</th>\n",
       "      <td>7829.000000</td>\n",
       "      <td>7829.000000</td>\n",
       "      <td>7829.000000</td>\n",
       "    </tr>\n",
       "    <tr>\n",
       "      <th>mean</th>\n",
       "      <td>7.819480</td>\n",
       "      <td>2.501597</td>\n",
       "      <td>19.709905</td>\n",
       "    </tr>\n",
       "    <tr>\n",
       "      <th>std</th>\n",
       "      <td>5.388088</td>\n",
       "      <td>1.122722</td>\n",
       "      <td>17.446680</td>\n",
       "    </tr>\n",
       "    <tr>\n",
       "      <th>min</th>\n",
       "      <td>0.190000</td>\n",
       "      <td>1.000000</td>\n",
       "      <td>0.190000</td>\n",
       "    </tr>\n",
       "    <tr>\n",
       "      <th>25%</th>\n",
       "      <td>3.990000</td>\n",
       "      <td>1.000000</td>\n",
       "      <td>6.570000</td>\n",
       "    </tr>\n",
       "    <tr>\n",
       "      <th>50%</th>\n",
       "      <td>7.190000</td>\n",
       "      <td>3.000000</td>\n",
       "      <td>14.970000</td>\n",
       "    </tr>\n",
       "    <tr>\n",
       "      <th>75%</th>\n",
       "      <td>11.190000</td>\n",
       "      <td>4.000000</td>\n",
       "      <td>28.470000</td>\n",
       "    </tr>\n",
       "    <tr>\n",
       "      <th>max</th>\n",
       "      <td>23.990000</td>\n",
       "      <td>4.000000</td>\n",
       "      <td>95.960000</td>\n",
       "    </tr>\n",
       "  </tbody>\n",
       "</table>\n",
       "</div>"
      ],
      "text/plain": [
       "        unit_price     quantity        total\n",
       "count  7829.000000  7829.000000  7829.000000\n",
       "mean      7.819480     2.501597    19.709905\n",
       "std       5.388088     1.122722    17.446680\n",
       "min       0.190000     1.000000     0.190000\n",
       "25%       3.990000     1.000000     6.570000\n",
       "50%       7.190000     3.000000    14.970000\n",
       "75%      11.190000     4.000000    28.470000\n",
       "max      23.990000     4.000000    95.960000"
      ]
     },
     "execution_count": 5,
     "metadata": {},
     "output_type": "execute_result"
    }
   ],
   "source": [
    "df.describe()"
   ]
  },
  {
   "cell_type": "code",
   "execution_count": 6,
   "id": "d830f3bd",
   "metadata": {},
   "outputs": [
    {
     "data": {
      "text/plain": [
       "transaction_id    0\n",
       "timestamp         0\n",
       "product_id        0\n",
       "category          0\n",
       "customer_type     0\n",
       "unit_price        0\n",
       "quantity          0\n",
       "total             0\n",
       "payment_type      0\n",
       "dtype: int64"
      ]
     },
     "execution_count": 6,
     "metadata": {},
     "output_type": "execute_result"
    }
   ],
   "source": [
    "df.isnull().sum()"
   ]
  },
  {
   "cell_type": "code",
   "execution_count": 7,
   "id": "0cd0e763",
   "metadata": {},
   "outputs": [
    {
     "data": {
      "text/plain": [
       "0"
      ]
     },
     "execution_count": 7,
     "metadata": {},
     "output_type": "execute_result"
    }
   ],
   "source": [
    "df.duplicated().sum()"
   ]
  },
  {
   "cell_type": "markdown",
   "id": "a4113327",
   "metadata": {},
   "source": [
    "# Visualization / EDA"
   ]
  },
  {
   "cell_type": "code",
   "execution_count": 8,
   "id": "c9e6420d",
   "metadata": {},
   "outputs": [
    {
     "name": "stdout",
     "output_type": "stream",
     "text": [
      "Index(['transaction_id', 'timestamp', 'product_id', 'category',\n",
      "       'customer_type', 'unit_price', 'quantity', 'total', 'payment_type'],\n",
      "      dtype='object')\n"
     ]
    }
   ],
   "source": [
    "print(df.columns)\n",
    "import matplotlib.pyplot as plt\n",
    "import seaborn as sns"
   ]
  },
  {
   "cell_type": "code",
   "execution_count": 9,
   "id": "87ebf866",
   "metadata": {},
   "outputs": [
    {
     "data": {
      "text/plain": [
       "<seaborn.axisgrid.PairGrid at 0x214db55d410>"
      ]
     },
     "execution_count": 9,
     "metadata": {},
     "output_type": "execute_result"
    },
    {
     "data": {
      "image/png": "[encoded data removed]",
      "text/plain": [
       "<Figure size 750x750 with 12 Axes>"
      ]
     },
     "metadata": {},
     "output_type": "display_data"
    }
   ],
   "source": [
    "sns.pairplot(df)"
   ]
  },
  {
   "cell_type": "code",
   "execution_count": 10,
   "id": "ca70805a",
   "metadata": {},
   "outputs": [
    {
     "data": {
      "text/plain": [
       "ecac012c-1dec-41d4-9ebd-56fb7166f6d9    114\n",
       "80da8348-1707-403f-8be7-9e6deeccc883    109\n",
       "0ddc2379-adba-4fb0-aa97-19fcafc738a1    108\n",
       "7c55cbd4-f306-4c04-a030-628cbe7867c1    104\n",
       "3bc6c1ea-0198-46de-9ffd-514ae3338713    101\n",
       "                                       ... \n",
       "49f7d4a9-713a-4824-b378-aebb33ff8b2f      5\n",
       "a8fab83a-16d4-4db0-a83a-f824ecd8604a      5\n",
       "c8de27d0-2c44-4b5a-b178-59c45d054ccb      5\n",
       "5adfc643-aa8e-4140-b2c3-98a946444632      5\n",
       "ec0bb9b5-45e3-4de8-963d-e92aa91a201e      3\n",
       "Name: product_id, Length: 300, dtype: int64"
      ]
     },
     "execution_count": 10,
     "metadata": {},
     "output_type": "execute_result"
    }
   ],
   "source": [
    "df[\"product_id\"].value_counts()"
   ]
  },
  {
   "cell_type": "code",
   "execution_count": 11,
   "id": "71c1e5e2",
   "metadata": {},
   "outputs": [
    {
     "data": {
      "text/plain": [
       "Text(0.5, 1.0, 'Bar Plot of Category Counts')"
      ]
     },
     "execution_count": 11,
     "metadata": {},
     "output_type": "execute_result"
    },
    {
     "data": {
      "image/png": "[encoded data removed]",
      "text/plain": [
       "<Figure size 1000x600 with 1 Axes>"
      ]
     },
     "metadata": {},
     "output_type": "display_data"
    }
   ],
   "source": [
    "cat_count = df[\"category\"].value_counts()\n",
    "plt.figure(figsize=(10, 6))\n",
    "plt.bar(cat_count.index , cat_count.values,color = \"magenta\")\n",
    "plt.xticks(rotation=45, ha=\"right\")\n",
    "plt.xlabel(\"Categories\")\n",
    "plt.ylabel(\"Counts\")\n",
    "plt.title(\"Bar Plot of Category Counts\")"
   ]
  },
  {
   "cell_type": "code",
   "execution_count": 12,
   "id": "fee05742",
   "metadata": {},
   "outputs": [
    {
     "data": {
      "text/plain": [
       "Text(0.5, 1.0, 'Customer type count')"
      ]
     },
     "execution_count": 12,
     "metadata": {},
     "output_type": "execute_result"
    },
    {
     "data": {
      "image/png": "[encoded data removed]",
      "text/plain": [
       "<Figure size 800x600 with 1 Axes>"
      ]
     },
     "metadata": {},
     "output_type": "display_data"
    }
   ],
   "source": [
    "customer_type = df[\"customer_type\"].value_counts()\n",
    "plt.figure(figsize=(8,6))\n",
    "plt.bar(customer_type.index , customer_type.values, color = \"pink\")\n",
    "plt.xlabel(\"Customer type\")\n",
    "plt.ylabel(\"customer count\")\n",
    "plt.title(\"Customer type count\")"
   ]
  },
  {
   "cell_type": "code",
   "execution_count": 13,
   "id": "c30f3c41",
   "metadata": {},
   "outputs": [
    {
     "data": {
      "text/plain": [
       "Text(0.5, 1.0, 'Payment type and count')"
      ]
     },
     "execution_count": 13,
     "metadata": {},
     "output_type": "execute_result"
    },
    {
     "data": {
      "image/png": "[encoded data removed]",
      "text/plain": [
       "<Figure size 640x480 with 1 Axes>"
      ]
     },
     "metadata": {},
     "output_type": "display_data"
    }
   ],
   "source": [
    "pay_type = df[\"payment_type\"].value_counts()\n",
    "plt.bar(pay_type.index , pay_type.values, color = \"Grey\")\n",
    "plt.xlabel(\"Payment Type\")\n",
    "plt.ylabel(\"Payment Count\")\n",
    "plt.title(\"Payment type and count\")"
   ]
  },
  {
   "cell_type": "code",
   "execution_count": 14,
   "id": "266527ac",
   "metadata": {},
   "outputs": [
    {
     "name": "stderr",
     "output_type": "stream",
     "text": [
      "C:\\Users\\Owais Akram\\AppData\\Local\\Temp\\ipykernel_16260\\3206681863.py:1: FutureWarning: The default value of numeric_only in DataFrameGroupBy.sum is deprecated. In a future version, numeric_only will default to False. Either specify numeric_only or select only columns which should be valid for the function.\n",
      "  total_sales = df.groupby([\"category\"],as_index = False).sum()\n"
     ]
    }
   ],
   "source": [
    "total_sales = df.groupby([\"category\"],as_index = False).sum()"
   ]
  },
  {
   "cell_type": "code",
   "execution_count": 15,
   "id": "0107089a",
   "metadata": {},
   "outputs": [
    {
     "data": {
      "text/plain": [
       "Text(0.5, 1.0, 'Total sales per category')"
      ]
     },
     "execution_count": 15,
     "metadata": {},
     "output_type": "execute_result"
    },
    {
     "data": {
      "image/png": "[encoded data removed]",
      "text/plain": [
       "<Figure size 1000x600 with 1 Axes>"
      ]
     },
     "metadata": {},
     "output_type": "display_data"
    }
   ],
   "source": [
    "plt.figure(figsize = (10,6))\n",
    "plt.bar(total_sales[\"category\"],total_sales[\"total\"], color = \"Green\")\n",
    "plt.xticks(rotation = 45,ha=\"right\")\n",
    "plt.xlabel(\"Categories\")\n",
    "plt.ylabel(\"Total Sales Amount\")\n",
    "plt.title(\"Total sales per category\")"
   ]
  },
  {
   "cell_type": "code",
   "execution_count": 16,
   "id": "0e05c348",
   "metadata": {},
   "outputs": [],
   "source": [
    "df[\"hour\"]=df[\"timestamp\"].dt.hour\n",
    "df[\"Day of Week\"]=df[\"timestamp\"].dt.day_name()"
   ]
  },
  {
   "cell_type": "code",
   "execution_count": 17,
   "id": "4cfcefde",
   "metadata": {},
   "outputs": [
    {
     "data": {
      "text/html": [
       "<div>\n",
       "<style scoped>\n",
       "    .dataframe tbody tr th:only-of-type {\n",
       "        vertical-align: middle;\n",
       "    }\n",
       "\n",
       "    .dataframe tbody tr th {\n",
       "        vertical-align: top;\n",
       "    }\n",
       "\n",
       "    .dataframe thead th {\n",
       "        text-align: right;\n",
       "    }\n",
       "</style>\n",
       "<table border=\"1\" class=\"dataframe\">\n",
       "  <thead>\n",
       "    <tr style=\"text-align: right;\">\n",
       "      <th></th>\n",
       "      <th>transaction_id</th>\n",
       "      <th>timestamp</th>\n",
       "      <th>product_id</th>\n",
       "      <th>category</th>\n",
       "      <th>customer_type</th>\n",
       "      <th>unit_price</th>\n",
       "      <th>quantity</th>\n",
       "      <th>total</th>\n",
       "      <th>payment_type</th>\n",
       "      <th>hour</th>\n",
       "      <th>Day of Week</th>\n",
       "    </tr>\n",
       "  </thead>\n",
       "  <tbody>\n",
       "    <tr>\n",
       "      <th>0</th>\n",
       "      <td>a1c82654-c52c-45b3-8ce8-4c2a1efe63ed</td>\n",
       "      <td>2022-03-02 09:51:38</td>\n",
       "      <td>3bc6c1ea-0198-46de-9ffd-514ae3338713</td>\n",
       "      <td>fruit</td>\n",
       "      <td>gold</td>\n",
       "      <td>3.99</td>\n",
       "      <td>2</td>\n",
       "      <td>7.98</td>\n",
       "      <td>e-wallet</td>\n",
       "      <td>9</td>\n",
       "      <td>Wednesday</td>\n",
       "    </tr>\n",
       "    <tr>\n",
       "      <th>1</th>\n",
       "      <td>931ad550-09e8-4da6-beaa-8c9d17be9c60</td>\n",
       "      <td>2022-03-06 10:33:59</td>\n",
       "      <td>ad81b46c-bf38-41cf-9b54-5fe7f5eba93e</td>\n",
       "      <td>fruit</td>\n",
       "      <td>standard</td>\n",
       "      <td>3.99</td>\n",
       "      <td>1</td>\n",
       "      <td>3.99</td>\n",
       "      <td>e-wallet</td>\n",
       "      <td>10</td>\n",
       "      <td>Sunday</td>\n",
       "    </tr>\n",
       "    <tr>\n",
       "      <th>2</th>\n",
       "      <td>ae133534-6f61-4cd6-b6b8-d1c1d8d90aea</td>\n",
       "      <td>2022-03-04 17:20:21</td>\n",
       "      <td>7c55cbd4-f306-4c04-a030-628cbe7867c1</td>\n",
       "      <td>fruit</td>\n",
       "      <td>premium</td>\n",
       "      <td>0.19</td>\n",
       "      <td>2</td>\n",
       "      <td>0.38</td>\n",
       "      <td>e-wallet</td>\n",
       "      <td>17</td>\n",
       "      <td>Friday</td>\n",
       "    </tr>\n",
       "    <tr>\n",
       "      <th>3</th>\n",
       "      <td>157cebd9-aaf0-475d-8a11-7c8e0f5b76e4</td>\n",
       "      <td>2022-03-02 17:23:58</td>\n",
       "      <td>80da8348-1707-403f-8be7-9e6deeccc883</td>\n",
       "      <td>fruit</td>\n",
       "      <td>gold</td>\n",
       "      <td>0.19</td>\n",
       "      <td>4</td>\n",
       "      <td>0.76</td>\n",
       "      <td>e-wallet</td>\n",
       "      <td>17</td>\n",
       "      <td>Wednesday</td>\n",
       "    </tr>\n",
       "    <tr>\n",
       "      <th>4</th>\n",
       "      <td>a81a6cd3-5e0c-44a2-826c-aea43e46c514</td>\n",
       "      <td>2022-03-05 14:32:43</td>\n",
       "      <td>7f5e86e6-f06f-45f6-bf44-27b095c9ad1d</td>\n",
       "      <td>fruit</td>\n",
       "      <td>basic</td>\n",
       "      <td>4.49</td>\n",
       "      <td>2</td>\n",
       "      <td>8.98</td>\n",
       "      <td>debit card</td>\n",
       "      <td>14</td>\n",
       "      <td>Saturday</td>\n",
       "    </tr>\n",
       "  </tbody>\n",
       "</table>\n",
       "</div>"
      ],
      "text/plain": [
       "                         transaction_id           timestamp  \\\n",
       "0  a1c82654-c52c-45b3-8ce8-4c2a1efe63ed 2022-03-02 09:51:38   \n",
       "1  931ad550-09e8-4da6-beaa-8c9d17be9c60 2022-03-06 10:33:59   \n",
       "2  ae133534-6f61-4cd6-b6b8-d1c1d8d90aea 2022-03-04 17:20:21   \n",
       "3  157cebd9-aaf0-475d-8a11-7c8e0f5b76e4 2022-03-02 17:23:58   \n",
       "4  a81a6cd3-5e0c-44a2-826c-aea43e46c514 2022-03-05 14:32:43   \n",
       "\n",
       "                             product_id category customer_type  unit_price  \\\n",
       "0  3bc6c1ea-0198-46de-9ffd-514ae3338713    fruit          gold        3.99   \n",
       "1  ad81b46c-bf38-41cf-9b54-5fe7f5eba93e    fruit      standard        3.99   \n",
       "2  7c55cbd4-f306-4c04-a030-628cbe7867c1    fruit       premium        0.19   \n",
       "3  80da8348-1707-403f-8be7-9e6deeccc883    fruit          gold        0.19   \n",
       "4  7f5e86e6-f06f-45f6-bf44-27b095c9ad1d    fruit         basic        4.49   \n",
       "\n",
       "   quantity  total payment_type  hour Day of Week  \n",
       "0         2   7.98     e-wallet     9   Wednesday  \n",
       "1         1   3.99     e-wallet    10      Sunday  \n",
       "2         2   0.38     e-wallet    17      Friday  \n",
       "3         4   0.76     e-wallet    17   Wednesday  \n",
       "4         2   8.98   debit card    14    Saturday  "
      ]
     },
     "execution_count": 17,
     "metadata": {},
     "output_type": "execute_result"
    }
   ],
   "source": [
    "df.head()"
   ]
  },
  {
   "cell_type": "code",
   "execution_count": 18,
   "id": "50d8e3f1",
   "metadata": {},
   "outputs": [],
   "source": [
    "busiest_hour  =df[\"hour\"].value_counts().sort_index()"
   ]
  },
  {
   "cell_type": "code",
   "execution_count": 20,
   "id": "3747059e",
   "metadata": {},
   "outputs": [],
   "source": [
    "busiest_day = df[\"Day of Week\"].value_counts().sort_index()"
   ]
  },
  {
   "cell_type": "code",
   "execution_count": 21,
   "id": "78bca40b",
   "metadata": {},
   "outputs": [
    {
     "data": {
      "image/png": "[encoded data removed]",
      "text/plain": [
       "<Figure size 1000x600 with 1 Axes>"
      ]
     },
     "metadata": {},
     "output_type": "display_data"
    }
   ],
   "source": [
    "plt.figure(figsize=(10, 6))\n",
    "plt.plot(busiest_hour.index, busiest_hour.values, marker='o')\n",
    "plt.xlabel(\"Hour\")\n",
    "plt.ylabel('Transaction Count')\n",
    "plt.title('Busiest Hours of the Store')\n",
    "plt.xticks(busiest_hour.index)\n",
    "plt.grid(True)\n",
    "plt.show()"
   ]
  },
  {
   "cell_type": "code",
   "execution_count": 22,
   "id": "d473c2bd",
   "metadata": {},
   "outputs": [
    {
     "data": {
      "image/png": "[encoded data removed]",
      "text/plain": [
       "<Figure size 1000x600 with 1 Axes>"
      ]
     },
     "metadata": {},
     "output_type": "display_data"
    }
   ],
   "source": [
    "plt.figure(figsize=(10, 6))\n",
    "plt.plot(busiest_day.index, busiest_day.values, marker='*')\n",
    "plt.xlabel(\"Day of the Week\")\n",
    "plt.ylabel('Transaction Count')\n",
    "plt.title('Busiest Day of the Store')\n",
    "plt.xticks(busiest_day.index)\n",
    "plt.grid(True)\n",
    "plt.show()"
   ]
  },
  {
   "cell_type": "markdown",
   "id": "a51c8276",
   "metadata": {},
   "source": [
    "# Adding Different Data Tables"
   ]
  },
  {
   "cell_type": "code",
   "execution_count": 23,
   "id": "68452812",
   "metadata": {},
   "outputs": [
    {
     "data": {
      "text/html": [
       "<div>\n",
       "<style scoped>\n",
       "    .dataframe tbody tr th:only-of-type {\n",
       "        vertical-align: middle;\n",
       "    }\n",
       "\n",
       "    .dataframe tbody tr th {\n",
       "        vertical-align: top;\n",
       "    }\n",
       "\n",
       "    .dataframe thead th {\n",
       "        text-align: right;\n",
       "    }\n",
       "</style>\n",
       "<table border=\"1\" class=\"dataframe\">\n",
       "  <thead>\n",
       "    <tr style=\"text-align: right;\">\n",
       "      <th></th>\n",
       "      <th>id</th>\n",
       "      <th>timestamp</th>\n",
       "      <th>product_id</th>\n",
       "      <th>estimated_stock_pct</th>\n",
       "    </tr>\n",
       "  </thead>\n",
       "  <tbody>\n",
       "    <tr>\n",
       "      <th>0</th>\n",
       "      <td>4220e505-c247-478d-9831-6b9f87a4488a</td>\n",
       "      <td>2022-03-07 12:13:02</td>\n",
       "      <td>f658605e-75f3-4fed-a655-c0903f344427</td>\n",
       "      <td>0.75</td>\n",
       "    </tr>\n",
       "    <tr>\n",
       "      <th>1</th>\n",
       "      <td>f2612b26-fc82-49ea-8940-0751fdd4d9ef</td>\n",
       "      <td>2022-03-07 16:39:46</td>\n",
       "      <td>de06083a-f5c0-451d-b2f4-9ab88b52609d</td>\n",
       "      <td>0.48</td>\n",
       "    </tr>\n",
       "    <tr>\n",
       "      <th>2</th>\n",
       "      <td>989a287f-67e6-4478-aa49-c3a35dac0e2e</td>\n",
       "      <td>2022-03-01 18:17:43</td>\n",
       "      <td>ce8f3a04-d1a4-43b1-a7c2-fa1b8e7674c8</td>\n",
       "      <td>0.58</td>\n",
       "    </tr>\n",
       "    <tr>\n",
       "      <th>3</th>\n",
       "      <td>af8e5683-d247-46ac-9909-1a77bdebefb2</td>\n",
       "      <td>2022-03-02 14:29:09</td>\n",
       "      <td>c21e3ba9-92a3-4745-92c2-6faef73223f7</td>\n",
       "      <td>0.79</td>\n",
       "    </tr>\n",
       "    <tr>\n",
       "      <th>4</th>\n",
       "      <td>08a32247-3f44-4002-85fb-c198434dd4bb</td>\n",
       "      <td>2022-03-02 13:46:18</td>\n",
       "      <td>7f478817-aa5b-44e9-9059-8045228c9eb0</td>\n",
       "      <td>0.22</td>\n",
       "    </tr>\n",
       "  </tbody>\n",
       "</table>\n",
       "</div>"
      ],
      "text/plain": [
       "                                     id            timestamp  \\\n",
       "0  4220e505-c247-478d-9831-6b9f87a4488a  2022-03-07 12:13:02   \n",
       "1  f2612b26-fc82-49ea-8940-0751fdd4d9ef  2022-03-07 16:39:46   \n",
       "2  989a287f-67e6-4478-aa49-c3a35dac0e2e  2022-03-01 18:17:43   \n",
       "3  af8e5683-d247-46ac-9909-1a77bdebefb2  2022-03-02 14:29:09   \n",
       "4  08a32247-3f44-4002-85fb-c198434dd4bb  2022-03-02 13:46:18   \n",
       "\n",
       "                             product_id  estimated_stock_pct  \n",
       "0  f658605e-75f3-4fed-a655-c0903f344427                 0.75  \n",
       "1  de06083a-f5c0-451d-b2f4-9ab88b52609d                 0.48  \n",
       "2  ce8f3a04-d1a4-43b1-a7c2-fa1b8e7674c8                 0.58  \n",
       "3  c21e3ba9-92a3-4745-92c2-6faef73223f7                 0.79  \n",
       "4  7f478817-aa5b-44e9-9059-8045228c9eb0                 0.22  "
      ]
     },
     "execution_count": 23,
     "metadata": {},
     "output_type": "execute_result"
    }
   ],
   "source": [
    "path = \"sensor_stock_levels.csv\"\n",
    "stocklevel = pd.read_csv(path)\n",
    "stocklevel.drop(columns=[\"Unnamed: 0\"], inplace=True, errors='ignore')\n",
    "stocklevel.head()"
   ]
  },
  {
   "cell_type": "code",
   "execution_count": 24,
   "id": "407b5c4b",
   "metadata": {},
   "outputs": [
    {
     "data": {
      "text/html": [
       "<div>\n",
       "<style scoped>\n",
       "    .dataframe tbody tr th:only-of-type {\n",
       "        vertical-align: middle;\n",
       "    }\n",
       "\n",
       "    .dataframe tbody tr th {\n",
       "        vertical-align: top;\n",
       "    }\n",
       "\n",
       "    .dataframe thead th {\n",
       "        text-align: right;\n",
       "    }\n",
       "</style>\n",
       "<table border=\"1\" class=\"dataframe\">\n",
       "  <thead>\n",
       "    <tr style=\"text-align: right;\">\n",
       "      <th></th>\n",
       "      <th>id</th>\n",
       "      <th>timestamp</th>\n",
       "      <th>temperature</th>\n",
       "    </tr>\n",
       "  </thead>\n",
       "  <tbody>\n",
       "    <tr>\n",
       "      <th>0</th>\n",
       "      <td>d1ca1ef8-0eac-42fc-af80-97106efc7b13</td>\n",
       "      <td>2022-03-07 15:55:20</td>\n",
       "      <td>2.96</td>\n",
       "    </tr>\n",
       "    <tr>\n",
       "      <th>1</th>\n",
       "      <td>4b8a66c4-0f3a-4f16-826f-8cf9397e9d18</td>\n",
       "      <td>2022-03-01 09:18:22</td>\n",
       "      <td>1.88</td>\n",
       "    </tr>\n",
       "    <tr>\n",
       "      <th>2</th>\n",
       "      <td>3d47a0c7-1e72-4512-812f-b6b5d8428cf3</td>\n",
       "      <td>2022-03-04 15:12:26</td>\n",
       "      <td>1.78</td>\n",
       "    </tr>\n",
       "    <tr>\n",
       "      <th>3</th>\n",
       "      <td>9500357b-ce15-424a-837a-7677b386f471</td>\n",
       "      <td>2022-03-02 12:30:42</td>\n",
       "      <td>2.18</td>\n",
       "    </tr>\n",
       "    <tr>\n",
       "      <th>4</th>\n",
       "      <td>c4b61fec-99c2-4c6d-8e5d-4edd8c9632fa</td>\n",
       "      <td>2022-03-05 09:09:33</td>\n",
       "      <td>1.38</td>\n",
       "    </tr>\n",
       "  </tbody>\n",
       "</table>\n",
       "</div>"
      ],
      "text/plain": [
       "                                     id            timestamp  temperature\n",
       "0  d1ca1ef8-0eac-42fc-af80-97106efc7b13  2022-03-07 15:55:20         2.96\n",
       "1  4b8a66c4-0f3a-4f16-826f-8cf9397e9d18  2022-03-01 09:18:22         1.88\n",
       "2  3d47a0c7-1e72-4512-812f-b6b5d8428cf3  2022-03-04 15:12:26         1.78\n",
       "3  9500357b-ce15-424a-837a-7677b386f471  2022-03-02 12:30:42         2.18\n",
       "4  c4b61fec-99c2-4c6d-8e5d-4edd8c9632fa  2022-03-05 09:09:33         1.38"
      ]
     },
     "execution_count": 24,
     "metadata": {},
     "output_type": "execute_result"
    }
   ],
   "source": [
    "path = \"sensor_storage_temperature.csv\"\n",
    "storagetemp = pd.read_csv(path)\n",
    "storagetemp.drop(columns=[\"Unnamed: 0\"], inplace=True, errors='ignore')\n",
    "storagetemp.head()"
   ]
  },
  {
   "cell_type": "code",
   "execution_count": 25,
   "id": "12d638c2",
   "metadata": {},
   "outputs": [
    {
     "name": "stdout",
     "output_type": "stream",
     "text": [
      "<class 'pandas.core.frame.DataFrame'>\n",
      "RangeIndex: 15000 entries, 0 to 14999\n",
      "Data columns (total 4 columns):\n",
      " #   Column               Non-Null Count  Dtype  \n",
      "---  ------               --------------  -----  \n",
      " 0   id                   15000 non-null  object \n",
      " 1   timestamp            15000 non-null  object \n",
      " 2   product_id           15000 non-null  object \n",
      " 3   estimated_stock_pct  15000 non-null  float64\n",
      "dtypes: float64(1), object(3)\n",
      "memory usage: 468.9+ KB\n"
     ]
    }
   ],
   "source": [
    "stocklevel.info()"
   ]
  },
  {
   "cell_type": "code",
   "execution_count": 26,
   "id": "f5e0af49",
   "metadata": {},
   "outputs": [
    {
     "data": {
      "text/plain": [
       "id                     0\n",
       "timestamp              0\n",
       "product_id             0\n",
       "estimated_stock_pct    0\n",
       "dtype: int64"
      ]
     },
     "execution_count": 26,
     "metadata": {},
     "output_type": "execute_result"
    }
   ],
   "source": [
    "stocklevel.isnull().sum()"
   ]
  },
  {
   "cell_type": "code",
   "execution_count": 27,
   "id": "5f039df4",
   "metadata": {},
   "outputs": [
    {
     "data": {
      "text/plain": [
       "0"
      ]
     },
     "execution_count": 27,
     "metadata": {},
     "output_type": "execute_result"
    }
   ],
   "source": [
    "stocklevel.duplicated().sum()"
   ]
  },
  {
   "cell_type": "code",
   "execution_count": 28,
   "id": "b6c5d6e3",
   "metadata": {},
   "outputs": [
    {
     "name": "stdout",
     "output_type": "stream",
     "text": [
      "<class 'pandas.core.frame.DataFrame'>\n",
      "RangeIndex: 23890 entries, 0 to 23889\n",
      "Data columns (total 3 columns):\n",
      " #   Column       Non-Null Count  Dtype  \n",
      "---  ------       --------------  -----  \n",
      " 0   id           23890 non-null  object \n",
      " 1   timestamp    23890 non-null  object \n",
      " 2   temperature  23890 non-null  float64\n",
      "dtypes: float64(1), object(2)\n",
      "memory usage: 560.1+ KB\n"
     ]
    }
   ],
   "source": [
    "storagetemp.info()"
   ]
  },
  {
   "cell_type": "code",
   "execution_count": 29,
   "id": "72f235bd",
   "metadata": {},
   "outputs": [
    {
     "data": {
      "text/plain": [
       "id             0\n",
       "timestamp      0\n",
       "temperature    0\n",
       "dtype: int64"
      ]
     },
     "execution_count": 29,
     "metadata": {},
     "output_type": "execute_result"
    }
   ],
   "source": [
    "storagetemp.isnull().sum()"
   ]
  },
  {
   "cell_type": "markdown",
   "id": "ad0eae05",
   "metadata": {},
   "source": [
    "# Converting Timestamp Datatype to Datetime format"
   ]
  },
  {
   "cell_type": "code",
   "execution_count": 30,
   "id": "689ec366",
   "metadata": {},
   "outputs": [],
   "source": [
    "stocklevel[\"timestamp\"] = pd.to_datetime(stocklevel[\"timestamp\"])\n",
    "storagetemp[\"timestamp\"]= pd.to_datetime(storagetemp[\"timestamp\"])"
   ]
  },
  {
   "cell_type": "code",
   "execution_count": 31,
   "id": "d19ad7c0",
   "metadata": {},
   "outputs": [
    {
     "data": {
      "text/html": [
       "<div>\n",
       "<style scoped>\n",
       "    .dataframe tbody tr th:only-of-type {\n",
       "        vertical-align: middle;\n",
       "    }\n",
       "\n",
       "    .dataframe tbody tr th {\n",
       "        vertical-align: top;\n",
       "    }\n",
       "\n",
       "    .dataframe thead th {\n",
       "        text-align: right;\n",
       "    }\n",
       "</style>\n",
       "<table border=\"1\" class=\"dataframe\">\n",
       "  <thead>\n",
       "    <tr style=\"text-align: right;\">\n",
       "      <th></th>\n",
       "      <th>estimated_stock_pct</th>\n",
       "    </tr>\n",
       "  </thead>\n",
       "  <tbody>\n",
       "    <tr>\n",
       "      <th>count</th>\n",
       "      <td>15000.000000</td>\n",
       "    </tr>\n",
       "    <tr>\n",
       "      <th>mean</th>\n",
       "      <td>0.502735</td>\n",
       "    </tr>\n",
       "    <tr>\n",
       "      <th>std</th>\n",
       "      <td>0.286842</td>\n",
       "    </tr>\n",
       "    <tr>\n",
       "      <th>min</th>\n",
       "      <td>0.010000</td>\n",
       "    </tr>\n",
       "    <tr>\n",
       "      <th>25%</th>\n",
       "      <td>0.260000</td>\n",
       "    </tr>\n",
       "    <tr>\n",
       "      <th>50%</th>\n",
       "      <td>0.500000</td>\n",
       "    </tr>\n",
       "    <tr>\n",
       "      <th>75%</th>\n",
       "      <td>0.750000</td>\n",
       "    </tr>\n",
       "    <tr>\n",
       "      <th>max</th>\n",
       "      <td>1.000000</td>\n",
       "    </tr>\n",
       "  </tbody>\n",
       "</table>\n",
       "</div>"
      ],
      "text/plain": [
       "       estimated_stock_pct\n",
       "count         15000.000000\n",
       "mean              0.502735\n",
       "std               0.286842\n",
       "min               0.010000\n",
       "25%               0.260000\n",
       "50%               0.500000\n",
       "75%               0.750000\n",
       "max               1.000000"
      ]
     },
     "execution_count": 31,
     "metadata": {},
     "output_type": "execute_result"
    }
   ],
   "source": [
    "stocklevel.describe()"
   ]
  },
  {
   "cell_type": "code",
   "execution_count": 32,
   "id": "448f477c",
   "metadata": {},
   "outputs": [
    {
     "data": {
      "text/html": [
       "<div>\n",
       "<style scoped>\n",
       "    .dataframe tbody tr th:only-of-type {\n",
       "        vertical-align: middle;\n",
       "    }\n",
       "\n",
       "    .dataframe tbody tr th {\n",
       "        vertical-align: top;\n",
       "    }\n",
       "\n",
       "    .dataframe thead th {\n",
       "        text-align: right;\n",
       "    }\n",
       "</style>\n",
       "<table border=\"1\" class=\"dataframe\">\n",
       "  <thead>\n",
       "    <tr style=\"text-align: right;\">\n",
       "      <th></th>\n",
       "      <th>temperature</th>\n",
       "    </tr>\n",
       "  </thead>\n",
       "  <tbody>\n",
       "    <tr>\n",
       "      <th>count</th>\n",
       "      <td>23890.000000</td>\n",
       "    </tr>\n",
       "    <tr>\n",
       "      <th>mean</th>\n",
       "      <td>-0.207075</td>\n",
       "    </tr>\n",
       "    <tr>\n",
       "      <th>std</th>\n",
       "      <td>11.217649</td>\n",
       "    </tr>\n",
       "    <tr>\n",
       "      <th>min</th>\n",
       "      <td>-30.990000</td>\n",
       "    </tr>\n",
       "    <tr>\n",
       "      <th>25%</th>\n",
       "      <td>-2.860000</td>\n",
       "    </tr>\n",
       "    <tr>\n",
       "      <th>50%</th>\n",
       "      <td>-1.000000</td>\n",
       "    </tr>\n",
       "    <tr>\n",
       "      <th>75%</th>\n",
       "      <td>1.840000</td>\n",
       "    </tr>\n",
       "    <tr>\n",
       "      <th>max</th>\n",
       "      <td>34.990000</td>\n",
       "    </tr>\n",
       "  </tbody>\n",
       "</table>\n",
       "</div>"
      ],
      "text/plain": [
       "        temperature\n",
       "count  23890.000000\n",
       "mean      -0.207075\n",
       "std       11.217649\n",
       "min      -30.990000\n",
       "25%       -2.860000\n",
       "50%       -1.000000\n",
       "75%        1.840000\n",
       "max       34.990000"
      ]
     },
     "execution_count": 32,
     "metadata": {},
     "output_type": "execute_result"
    }
   ],
   "source": [
    "storagetemp.describe()"
   ]
  },
  {
   "cell_type": "markdown",
   "id": "64781be1",
   "metadata": {},
   "source": [
    "# Merging Data"
   ]
  },
  {
   "cell_type": "markdown",
   "id": "e8dc1ae2",
   "metadata": {},
   "source": [
    "Currently we have three data sets df, stocklevel and storagetemp all these datasets will have to be merged in order for creating model. \"Business Problem: Can we accurately predict the stock levels of products, based on sales data and sensor data, on an hourly basis in order to more intelligently procure products from our suppliers.\" We will transform timestamp column so that it containes date and time (hour only) not minutes. then we will merge\n",
    "\n"
   ]
  },
  {
   "cell_type": "code",
   "execution_count": 33,
   "id": "d1fced90",
   "metadata": {},
   "outputs": [],
   "source": [
    "from datetime import datetime\n",
    "\n",
    "def convert_timestamp_to_hourly(data: pd.DataFrame = None, column: str = None):\n",
    "  dummy = data.copy()\n",
    "  new_ts = dummy[column].tolist()\n",
    "  new_ts = [i.strftime(\"%Y-%m-%d %H:00:00\") for i in new_ts]\n",
    "  new_ts = [datetime.strptime(i, \"%Y-%m-%d %H:00:00\") for i in new_ts]\n",
    "  dummy[column] = new_ts\n",
    "  return dummy"
   ]
  },
  {
   "cell_type": "code",
   "execution_count": 34,
   "id": "16b3013d",
   "metadata": {},
   "outputs": [
    {
     "data": {
      "text/html": [
       "<div>\n",
       "<style scoped>\n",
       "    .dataframe tbody tr th:only-of-type {\n",
       "        vertical-align: middle;\n",
       "    }\n",
       "\n",
       "    .dataframe tbody tr th {\n",
       "        vertical-align: top;\n",
       "    }\n",
       "\n",
       "    .dataframe thead th {\n",
       "        text-align: right;\n",
       "    }\n",
       "</style>\n",
       "<table border=\"1\" class=\"dataframe\">\n",
       "  <thead>\n",
       "    <tr style=\"text-align: right;\">\n",
       "      <th></th>\n",
       "      <th>transaction_id</th>\n",
       "      <th>timestamp</th>\n",
       "      <th>product_id</th>\n",
       "      <th>category</th>\n",
       "      <th>customer_type</th>\n",
       "      <th>unit_price</th>\n",
       "      <th>quantity</th>\n",
       "      <th>total</th>\n",
       "      <th>payment_type</th>\n",
       "      <th>hour</th>\n",
       "      <th>Day of Week</th>\n",
       "    </tr>\n",
       "  </thead>\n",
       "  <tbody>\n",
       "    <tr>\n",
       "      <th>0</th>\n",
       "      <td>a1c82654-c52c-45b3-8ce8-4c2a1efe63ed</td>\n",
       "      <td>2022-03-02 09:00:00</td>\n",
       "      <td>3bc6c1ea-0198-46de-9ffd-514ae3338713</td>\n",
       "      <td>fruit</td>\n",
       "      <td>gold</td>\n",
       "      <td>3.99</td>\n",
       "      <td>2</td>\n",
       "      <td>7.98</td>\n",
       "      <td>e-wallet</td>\n",
       "      <td>9</td>\n",
       "      <td>Wednesday</td>\n",
       "    </tr>\n",
       "    <tr>\n",
       "      <th>1</th>\n",
       "      <td>931ad550-09e8-4da6-beaa-8c9d17be9c60</td>\n",
       "      <td>2022-03-06 10:00:00</td>\n",
       "      <td>ad81b46c-bf38-41cf-9b54-5fe7f5eba93e</td>\n",
       "      <td>fruit</td>\n",
       "      <td>standard</td>\n",
       "      <td>3.99</td>\n",
       "      <td>1</td>\n",
       "      <td>3.99</td>\n",
       "      <td>e-wallet</td>\n",
       "      <td>10</td>\n",
       "      <td>Sunday</td>\n",
       "    </tr>\n",
       "    <tr>\n",
       "      <th>2</th>\n",
       "      <td>ae133534-6f61-4cd6-b6b8-d1c1d8d90aea</td>\n",
       "      <td>2022-03-04 17:00:00</td>\n",
       "      <td>7c55cbd4-f306-4c04-a030-628cbe7867c1</td>\n",
       "      <td>fruit</td>\n",
       "      <td>premium</td>\n",
       "      <td>0.19</td>\n",
       "      <td>2</td>\n",
       "      <td>0.38</td>\n",
       "      <td>e-wallet</td>\n",
       "      <td>17</td>\n",
       "      <td>Friday</td>\n",
       "    </tr>\n",
       "    <tr>\n",
       "      <th>3</th>\n",
       "      <td>157cebd9-aaf0-475d-8a11-7c8e0f5b76e4</td>\n",
       "      <td>2022-03-02 17:00:00</td>\n",
       "      <td>80da8348-1707-403f-8be7-9e6deeccc883</td>\n",
       "      <td>fruit</td>\n",
       "      <td>gold</td>\n",
       "      <td>0.19</td>\n",
       "      <td>4</td>\n",
       "      <td>0.76</td>\n",
       "      <td>e-wallet</td>\n",
       "      <td>17</td>\n",
       "      <td>Wednesday</td>\n",
       "    </tr>\n",
       "    <tr>\n",
       "      <th>4</th>\n",
       "      <td>a81a6cd3-5e0c-44a2-826c-aea43e46c514</td>\n",
       "      <td>2022-03-05 14:00:00</td>\n",
       "      <td>7f5e86e6-f06f-45f6-bf44-27b095c9ad1d</td>\n",
       "      <td>fruit</td>\n",
       "      <td>basic</td>\n",
       "      <td>4.49</td>\n",
       "      <td>2</td>\n",
       "      <td>8.98</td>\n",
       "      <td>debit card</td>\n",
       "      <td>14</td>\n",
       "      <td>Saturday</td>\n",
       "    </tr>\n",
       "  </tbody>\n",
       "</table>\n",
       "</div>"
      ],
      "text/plain": [
       "                         transaction_id           timestamp  \\\n",
       "0  a1c82654-c52c-45b3-8ce8-4c2a1efe63ed 2022-03-02 09:00:00   \n",
       "1  931ad550-09e8-4da6-beaa-8c9d17be9c60 2022-03-06 10:00:00   \n",
       "2  ae133534-6f61-4cd6-b6b8-d1c1d8d90aea 2022-03-04 17:00:00   \n",
       "3  157cebd9-aaf0-475d-8a11-7c8e0f5b76e4 2022-03-02 17:00:00   \n",
       "4  a81a6cd3-5e0c-44a2-826c-aea43e46c514 2022-03-05 14:00:00   \n",
       "\n",
       "                             product_id category customer_type  unit_price  \\\n",
       "0  3bc6c1ea-0198-46de-9ffd-514ae3338713    fruit          gold        3.99   \n",
       "1  ad81b46c-bf38-41cf-9b54-5fe7f5eba93e    fruit      standard        3.99   \n",
       "2  7c55cbd4-f306-4c04-a030-628cbe7867c1    fruit       premium        0.19   \n",
       "3  80da8348-1707-403f-8be7-9e6deeccc883    fruit          gold        0.19   \n",
       "4  7f5e86e6-f06f-45f6-bf44-27b095c9ad1d    fruit         basic        4.49   \n",
       "\n",
       "   quantity  total payment_type  hour Day of Week  \n",
       "0         2   7.98     e-wallet     9   Wednesday  \n",
       "1         1   3.99     e-wallet    10      Sunday  \n",
       "2         2   0.38     e-wallet    17      Friday  \n",
       "3         4   0.76     e-wallet    17   Wednesday  \n",
       "4         2   8.98   debit card    14    Saturday  "
      ]
     },
     "execution_count": 34,
     "metadata": {},
     "output_type": "execute_result"
    }
   ],
   "source": [
    "df = convert_timestamp_to_hourly(df, \"timestamp\")\n",
    "df.head()"
   ]
  },
  {
   "cell_type": "code",
   "execution_count": 35,
   "id": "e1d10f60",
   "metadata": {},
   "outputs": [
    {
     "data": {
      "text/html": [
       "<div>\n",
       "<style scoped>\n",
       "    .dataframe tbody tr th:only-of-type {\n",
       "        vertical-align: middle;\n",
       "    }\n",
       "\n",
       "    .dataframe tbody tr th {\n",
       "        vertical-align: top;\n",
       "    }\n",
       "\n",
       "    .dataframe thead th {\n",
       "        text-align: right;\n",
       "    }\n",
       "</style>\n",
       "<table border=\"1\" class=\"dataframe\">\n",
       "  <thead>\n",
       "    <tr style=\"text-align: right;\">\n",
       "      <th></th>\n",
       "      <th>id</th>\n",
       "      <th>timestamp</th>\n",
       "      <th>product_id</th>\n",
       "      <th>estimated_stock_pct</th>\n",
       "    </tr>\n",
       "  </thead>\n",
       "  <tbody>\n",
       "    <tr>\n",
       "      <th>0</th>\n",
       "      <td>4220e505-c247-478d-9831-6b9f87a4488a</td>\n",
       "      <td>2022-03-07 12:00:00</td>\n",
       "      <td>f658605e-75f3-4fed-a655-c0903f344427</td>\n",
       "      <td>0.75</td>\n",
       "    </tr>\n",
       "    <tr>\n",
       "      <th>1</th>\n",
       "      <td>f2612b26-fc82-49ea-8940-0751fdd4d9ef</td>\n",
       "      <td>2022-03-07 16:00:00</td>\n",
       "      <td>de06083a-f5c0-451d-b2f4-9ab88b52609d</td>\n",
       "      <td>0.48</td>\n",
       "    </tr>\n",
       "    <tr>\n",
       "      <th>2</th>\n",
       "      <td>989a287f-67e6-4478-aa49-c3a35dac0e2e</td>\n",
       "      <td>2022-03-01 18:00:00</td>\n",
       "      <td>ce8f3a04-d1a4-43b1-a7c2-fa1b8e7674c8</td>\n",
       "      <td>0.58</td>\n",
       "    </tr>\n",
       "    <tr>\n",
       "      <th>3</th>\n",
       "      <td>af8e5683-d247-46ac-9909-1a77bdebefb2</td>\n",
       "      <td>2022-03-02 14:00:00</td>\n",
       "      <td>c21e3ba9-92a3-4745-92c2-6faef73223f7</td>\n",
       "      <td>0.79</td>\n",
       "    </tr>\n",
       "    <tr>\n",
       "      <th>4</th>\n",
       "      <td>08a32247-3f44-4002-85fb-c198434dd4bb</td>\n",
       "      <td>2022-03-02 13:00:00</td>\n",
       "      <td>7f478817-aa5b-44e9-9059-8045228c9eb0</td>\n",
       "      <td>0.22</td>\n",
       "    </tr>\n",
       "  </tbody>\n",
       "</table>\n",
       "</div>"
      ],
      "text/plain": [
       "                                     id           timestamp  \\\n",
       "0  4220e505-c247-478d-9831-6b9f87a4488a 2022-03-07 12:00:00   \n",
       "1  f2612b26-fc82-49ea-8940-0751fdd4d9ef 2022-03-07 16:00:00   \n",
       "2  989a287f-67e6-4478-aa49-c3a35dac0e2e 2022-03-01 18:00:00   \n",
       "3  af8e5683-d247-46ac-9909-1a77bdebefb2 2022-03-02 14:00:00   \n",
       "4  08a32247-3f44-4002-85fb-c198434dd4bb 2022-03-02 13:00:00   \n",
       "\n",
       "                             product_id  estimated_stock_pct  \n",
       "0  f658605e-75f3-4fed-a655-c0903f344427                 0.75  \n",
       "1  de06083a-f5c0-451d-b2f4-9ab88b52609d                 0.48  \n",
       "2  ce8f3a04-d1a4-43b1-a7c2-fa1b8e7674c8                 0.58  \n",
       "3  c21e3ba9-92a3-4745-92c2-6faef73223f7                 0.79  \n",
       "4  7f478817-aa5b-44e9-9059-8045228c9eb0                 0.22  "
      ]
     },
     "execution_count": 35,
     "metadata": {},
     "output_type": "execute_result"
    }
   ],
   "source": [
    "stocklevel = convert_timestamp_to_hourly(stocklevel, \"timestamp\")\n",
    "stocklevel.head()"
   ]
  },
  {
   "cell_type": "code",
   "execution_count": 36,
   "id": "73dcd874",
   "metadata": {},
   "outputs": [
    {
     "data": {
      "text/html": [
       "<div>\n",
       "<style scoped>\n",
       "    .dataframe tbody tr th:only-of-type {\n",
       "        vertical-align: middle;\n",
       "    }\n",
       "\n",
       "    .dataframe tbody tr th {\n",
       "        vertical-align: top;\n",
       "    }\n",
       "\n",
       "    .dataframe thead th {\n",
       "        text-align: right;\n",
       "    }\n",
       "</style>\n",
       "<table border=\"1\" class=\"dataframe\">\n",
       "  <thead>\n",
       "    <tr style=\"text-align: right;\">\n",
       "      <th></th>\n",
       "      <th>id</th>\n",
       "      <th>timestamp</th>\n",
       "      <th>temperature</th>\n",
       "    </tr>\n",
       "  </thead>\n",
       "  <tbody>\n",
       "    <tr>\n",
       "      <th>0</th>\n",
       "      <td>d1ca1ef8-0eac-42fc-af80-97106efc7b13</td>\n",
       "      <td>2022-03-07 15:00:00</td>\n",
       "      <td>2.96</td>\n",
       "    </tr>\n",
       "    <tr>\n",
       "      <th>1</th>\n",
       "      <td>4b8a66c4-0f3a-4f16-826f-8cf9397e9d18</td>\n",
       "      <td>2022-03-01 09:00:00</td>\n",
       "      <td>1.88</td>\n",
       "    </tr>\n",
       "    <tr>\n",
       "      <th>2</th>\n",
       "      <td>3d47a0c7-1e72-4512-812f-b6b5d8428cf3</td>\n",
       "      <td>2022-03-04 15:00:00</td>\n",
       "      <td>1.78</td>\n",
       "    </tr>\n",
       "    <tr>\n",
       "      <th>3</th>\n",
       "      <td>9500357b-ce15-424a-837a-7677b386f471</td>\n",
       "      <td>2022-03-02 12:00:00</td>\n",
       "      <td>2.18</td>\n",
       "    </tr>\n",
       "    <tr>\n",
       "      <th>4</th>\n",
       "      <td>c4b61fec-99c2-4c6d-8e5d-4edd8c9632fa</td>\n",
       "      <td>2022-03-05 09:00:00</td>\n",
       "      <td>1.38</td>\n",
       "    </tr>\n",
       "  </tbody>\n",
       "</table>\n",
       "</div>"
      ],
      "text/plain": [
       "                                     id           timestamp  temperature\n",
       "0  d1ca1ef8-0eac-42fc-af80-97106efc7b13 2022-03-07 15:00:00         2.96\n",
       "1  4b8a66c4-0f3a-4f16-826f-8cf9397e9d18 2022-03-01 09:00:00         1.88\n",
       "2  3d47a0c7-1e72-4512-812f-b6b5d8428cf3 2022-03-04 15:00:00         1.78\n",
       "3  9500357b-ce15-424a-837a-7677b386f471 2022-03-02 12:00:00         2.18\n",
       "4  c4b61fec-99c2-4c6d-8e5d-4edd8c9632fa 2022-03-05 09:00:00         1.38"
      ]
     },
     "execution_count": 36,
     "metadata": {},
     "output_type": "execute_result"
    }
   ],
   "source": [
    "storagetemp = convert_timestamp_to_hourly(storagetemp,\"timestamp\")\n",
    "storagetemp.head()"
   ]
  },
  {
   "cell_type": "code",
   "execution_count": 37,
   "id": "cd2b4c53",
   "metadata": {},
   "outputs": [
    {
     "data": {
      "text/html": [
       "<div>\n",
       "<style scoped>\n",
       "    .dataframe tbody tr th:only-of-type {\n",
       "        vertical-align: middle;\n",
       "    }\n",
       "\n",
       "    .dataframe tbody tr th {\n",
       "        vertical-align: top;\n",
       "    }\n",
       "\n",
       "    .dataframe thead th {\n",
       "        text-align: right;\n",
       "    }\n",
       "</style>\n",
       "<table border=\"1\" class=\"dataframe\">\n",
       "  <thead>\n",
       "    <tr style=\"text-align: right;\">\n",
       "      <th></th>\n",
       "      <th>timestamp</th>\n",
       "      <th>product_id</th>\n",
       "      <th>estimated_stock_pct</th>\n",
       "    </tr>\n",
       "  </thead>\n",
       "  <tbody>\n",
       "    <tr>\n",
       "      <th>0</th>\n",
       "      <td>2022-03-01 09:00:00</td>\n",
       "      <td>00e120bb-89d6-4df5-bc48-a051148e3d03</td>\n",
       "      <td>0.89</td>\n",
       "    </tr>\n",
       "    <tr>\n",
       "      <th>1</th>\n",
       "      <td>2022-03-01 09:00:00</td>\n",
       "      <td>01f3cdd9-8e9e-4dff-9b5c-69698a0388d0</td>\n",
       "      <td>0.14</td>\n",
       "    </tr>\n",
       "    <tr>\n",
       "      <th>2</th>\n",
       "      <td>2022-03-01 09:00:00</td>\n",
       "      <td>01ff0803-ae73-4234-971d-5713c97b7f4b</td>\n",
       "      <td>0.67</td>\n",
       "    </tr>\n",
       "    <tr>\n",
       "      <th>3</th>\n",
       "      <td>2022-03-01 09:00:00</td>\n",
       "      <td>0363eb21-8c74-47e1-a216-c37e565e5ceb</td>\n",
       "      <td>0.82</td>\n",
       "    </tr>\n",
       "    <tr>\n",
       "      <th>4</th>\n",
       "      <td>2022-03-01 09:00:00</td>\n",
       "      <td>03f0b20e-3b5b-444f-bc39-cdfa2523d4bc</td>\n",
       "      <td>0.05</td>\n",
       "    </tr>\n",
       "  </tbody>\n",
       "</table>\n",
       "</div>"
      ],
      "text/plain": [
       "            timestamp                            product_id  \\\n",
       "0 2022-03-01 09:00:00  00e120bb-89d6-4df5-bc48-a051148e3d03   \n",
       "1 2022-03-01 09:00:00  01f3cdd9-8e9e-4dff-9b5c-69698a0388d0   \n",
       "2 2022-03-01 09:00:00  01ff0803-ae73-4234-971d-5713c97b7f4b   \n",
       "3 2022-03-01 09:00:00  0363eb21-8c74-47e1-a216-c37e565e5ceb   \n",
       "4 2022-03-01 09:00:00  03f0b20e-3b5b-444f-bc39-cdfa2523d4bc   \n",
       "\n",
       "   estimated_stock_pct  \n",
       "0                 0.89  \n",
       "1                 0.14  \n",
       "2                 0.67  \n",
       "3                 0.82  \n",
       "4                 0.05  "
      ]
     },
     "execution_count": 37,
     "metadata": {},
     "output_type": "execute_result"
    }
   ],
   "source": [
    "stock_agg = stocklevel.groupby([\"timestamp\", \"product_id\"]).agg({\"estimated_stock_pct\": \"mean\"}).reset_index()\n",
    "stock_agg.head()"
   ]
  },
  {
   "cell_type": "code",
   "execution_count": 38,
   "id": "7709af03",
   "metadata": {},
   "outputs": [
    {
     "data": {
      "text/html": [
       "<div>\n",
       "<style scoped>\n",
       "    .dataframe tbody tr th:only-of-type {\n",
       "        vertical-align: middle;\n",
       "    }\n",
       "\n",
       "    .dataframe tbody tr th {\n",
       "        vertical-align: top;\n",
       "    }\n",
       "\n",
       "    .dataframe thead th {\n",
       "        text-align: right;\n",
       "    }\n",
       "</style>\n",
       "<table border=\"1\" class=\"dataframe\">\n",
       "  <thead>\n",
       "    <tr style=\"text-align: right;\">\n",
       "      <th></th>\n",
       "      <th>timestamp</th>\n",
       "      <th>product_id</th>\n",
       "      <th>quantity</th>\n",
       "    </tr>\n",
       "  </thead>\n",
       "  <tbody>\n",
       "    <tr>\n",
       "      <th>0</th>\n",
       "      <td>2022-03-01 09:00:00</td>\n",
       "      <td>00e120bb-89d6-4df5-bc48-a051148e3d03</td>\n",
       "      <td>3</td>\n",
       "    </tr>\n",
       "    <tr>\n",
       "      <th>1</th>\n",
       "      <td>2022-03-01 09:00:00</td>\n",
       "      <td>01f3cdd9-8e9e-4dff-9b5c-69698a0388d0</td>\n",
       "      <td>3</td>\n",
       "    </tr>\n",
       "    <tr>\n",
       "      <th>2</th>\n",
       "      <td>2022-03-01 09:00:00</td>\n",
       "      <td>03a2557a-aa12-4add-a6d4-77dc36342067</td>\n",
       "      <td>3</td>\n",
       "    </tr>\n",
       "    <tr>\n",
       "      <th>3</th>\n",
       "      <td>2022-03-01 09:00:00</td>\n",
       "      <td>049b2171-0eeb-4a3e-bf98-0c290c7821da</td>\n",
       "      <td>7</td>\n",
       "    </tr>\n",
       "    <tr>\n",
       "      <th>4</th>\n",
       "      <td>2022-03-01 09:00:00</td>\n",
       "      <td>04da844d-8dba-4470-9119-e534d52a03a0</td>\n",
       "      <td>11</td>\n",
       "    </tr>\n",
       "  </tbody>\n",
       "</table>\n",
       "</div>"
      ],
      "text/plain": [
       "            timestamp                            product_id  quantity\n",
       "0 2022-03-01 09:00:00  00e120bb-89d6-4df5-bc48-a051148e3d03         3\n",
       "1 2022-03-01 09:00:00  01f3cdd9-8e9e-4dff-9b5c-69698a0388d0         3\n",
       "2 2022-03-01 09:00:00  03a2557a-aa12-4add-a6d4-77dc36342067         3\n",
       "3 2022-03-01 09:00:00  049b2171-0eeb-4a3e-bf98-0c290c7821da         7\n",
       "4 2022-03-01 09:00:00  04da844d-8dba-4470-9119-e534d52a03a0        11"
      ]
     },
     "execution_count": 38,
     "metadata": {},
     "output_type": "execute_result"
    }
   ],
   "source": [
    "sales_agg = df.groupby([\"timestamp\", \"product_id\"]).agg({\"quantity\": \"sum\"}).reset_index()\n",
    "sales_agg.head()"
   ]
  },
  {
   "cell_type": "code",
   "execution_count": 39,
   "id": "ce759728",
   "metadata": {},
   "outputs": [
    {
     "data": {
      "text/html": [
       "<div>\n",
       "<style scoped>\n",
       "    .dataframe tbody tr th:only-of-type {\n",
       "        vertical-align: middle;\n",
       "    }\n",
       "\n",
       "    .dataframe tbody tr th {\n",
       "        vertical-align: top;\n",
       "    }\n",
       "\n",
       "    .dataframe thead th {\n",
       "        text-align: right;\n",
       "    }\n",
       "</style>\n",
       "<table border=\"1\" class=\"dataframe\">\n",
       "  <thead>\n",
       "    <tr style=\"text-align: right;\">\n",
       "      <th></th>\n",
       "      <th>timestamp</th>\n",
       "      <th>temperature</th>\n",
       "    </tr>\n",
       "  </thead>\n",
       "  <tbody>\n",
       "    <tr>\n",
       "      <th>0</th>\n",
       "      <td>2022-03-01 09:00:00</td>\n",
       "      <td>-0.028850</td>\n",
       "    </tr>\n",
       "    <tr>\n",
       "      <th>1</th>\n",
       "      <td>2022-03-01 10:00:00</td>\n",
       "      <td>1.284314</td>\n",
       "    </tr>\n",
       "    <tr>\n",
       "      <th>2</th>\n",
       "      <td>2022-03-01 11:00:00</td>\n",
       "      <td>-0.560000</td>\n",
       "    </tr>\n",
       "    <tr>\n",
       "      <th>3</th>\n",
       "      <td>2022-03-01 12:00:00</td>\n",
       "      <td>-0.537721</td>\n",
       "    </tr>\n",
       "    <tr>\n",
       "      <th>4</th>\n",
       "      <td>2022-03-01 13:00:00</td>\n",
       "      <td>-0.188734</td>\n",
       "    </tr>\n",
       "  </tbody>\n",
       "</table>\n",
       "</div>"
      ],
      "text/plain": [
       "            timestamp  temperature\n",
       "0 2022-03-01 09:00:00    -0.028850\n",
       "1 2022-03-01 10:00:00     1.284314\n",
       "2 2022-03-01 11:00:00    -0.560000\n",
       "3 2022-03-01 12:00:00    -0.537721\n",
       "4 2022-03-01 13:00:00    -0.188734"
      ]
     },
     "execution_count": 39,
     "metadata": {},
     "output_type": "execute_result"
    }
   ],
   "source": [
    "temp_agg = storagetemp.groupby([\"timestamp\"]).agg({\"temperature\": \"mean\"}).reset_index()\n",
    "temp_agg.head()"
   ]
  },
  {
   "cell_type": "markdown",
   "id": "2ffaffd9",
   "metadata": {},
   "source": [
    "This gives us the average temperature of the storage facility where the produce is stored in the warehouse by unique hours during the week. Now, we are ready to merge our data. We will use the stock_agg table as our base table, and we will merge our other 2 tables onto this."
   ]
  },
  {
   "cell_type": "code",
   "execution_count": 40,
   "id": "9edb7886",
   "metadata": {},
   "outputs": [
    {
     "data": {
      "text/html": [
       "<div>\n",
       "<style scoped>\n",
       "    .dataframe tbody tr th:only-of-type {\n",
       "        vertical-align: middle;\n",
       "    }\n",
       "\n",
       "    .dataframe tbody tr th {\n",
       "        vertical-align: top;\n",
       "    }\n",
       "\n",
       "    .dataframe thead th {\n",
       "        text-align: right;\n",
       "    }\n",
       "</style>\n",
       "<table border=\"1\" class=\"dataframe\">\n",
       "  <thead>\n",
       "    <tr style=\"text-align: right;\">\n",
       "      <th></th>\n",
       "      <th>timestamp</th>\n",
       "      <th>product_id</th>\n",
       "      <th>estimated_stock_pct</th>\n",
       "      <th>quantity</th>\n",
       "    </tr>\n",
       "  </thead>\n",
       "  <tbody>\n",
       "    <tr>\n",
       "      <th>0</th>\n",
       "      <td>2022-03-01 09:00:00</td>\n",
       "      <td>00e120bb-89d6-4df5-bc48-a051148e3d03</td>\n",
       "      <td>0.89</td>\n",
       "      <td>3.0</td>\n",
       "    </tr>\n",
       "    <tr>\n",
       "      <th>1</th>\n",
       "      <td>2022-03-01 09:00:00</td>\n",
       "      <td>01f3cdd9-8e9e-4dff-9b5c-69698a0388d0</td>\n",
       "      <td>0.14</td>\n",
       "      <td>3.0</td>\n",
       "    </tr>\n",
       "    <tr>\n",
       "      <th>2</th>\n",
       "      <td>2022-03-01 09:00:00</td>\n",
       "      <td>01ff0803-ae73-4234-971d-5713c97b7f4b</td>\n",
       "      <td>0.67</td>\n",
       "      <td>NaN</td>\n",
       "    </tr>\n",
       "    <tr>\n",
       "      <th>3</th>\n",
       "      <td>2022-03-01 09:00:00</td>\n",
       "      <td>0363eb21-8c74-47e1-a216-c37e565e5ceb</td>\n",
       "      <td>0.82</td>\n",
       "      <td>NaN</td>\n",
       "    </tr>\n",
       "    <tr>\n",
       "      <th>4</th>\n",
       "      <td>2022-03-01 09:00:00</td>\n",
       "      <td>03f0b20e-3b5b-444f-bc39-cdfa2523d4bc</td>\n",
       "      <td>0.05</td>\n",
       "      <td>NaN</td>\n",
       "    </tr>\n",
       "  </tbody>\n",
       "</table>\n",
       "</div>"
      ],
      "text/plain": [
       "            timestamp                            product_id  \\\n",
       "0 2022-03-01 09:00:00  00e120bb-89d6-4df5-bc48-a051148e3d03   \n",
       "1 2022-03-01 09:00:00  01f3cdd9-8e9e-4dff-9b5c-69698a0388d0   \n",
       "2 2022-03-01 09:00:00  01ff0803-ae73-4234-971d-5713c97b7f4b   \n",
       "3 2022-03-01 09:00:00  0363eb21-8c74-47e1-a216-c37e565e5ceb   \n",
       "4 2022-03-01 09:00:00  03f0b20e-3b5b-444f-bc39-cdfa2523d4bc   \n",
       "\n",
       "   estimated_stock_pct  quantity  \n",
       "0                 0.89       3.0  \n",
       "1                 0.14       3.0  \n",
       "2                 0.67       NaN  \n",
       "3                 0.82       NaN  \n",
       "4                 0.05       NaN  "
      ]
     },
     "execution_count": 40,
     "metadata": {},
     "output_type": "execute_result"
    }
   ],
   "source": [
    "merged_df = stock_agg.merge(sales_agg, on=[\"timestamp\", \"product_id\"], how='left')\n",
    "merged_df.head()"
   ]
  },
  {
   "cell_type": "code",
   "execution_count": 41,
   "id": "daa46ee1",
   "metadata": {},
   "outputs": [
    {
     "data": {
      "text/html": [
       "<div>\n",
       "<style scoped>\n",
       "    .dataframe tbody tr th:only-of-type {\n",
       "        vertical-align: middle;\n",
       "    }\n",
       "\n",
       "    .dataframe tbody tr th {\n",
       "        vertical-align: top;\n",
       "    }\n",
       "\n",
       "    .dataframe thead th {\n",
       "        text-align: right;\n",
       "    }\n",
       "</style>\n",
       "<table border=\"1\" class=\"dataframe\">\n",
       "  <thead>\n",
       "    <tr style=\"text-align: right;\">\n",
       "      <th></th>\n",
       "      <th>timestamp</th>\n",
       "      <th>product_id</th>\n",
       "      <th>estimated_stock_pct</th>\n",
       "      <th>quantity</th>\n",
       "      <th>temperature</th>\n",
       "    </tr>\n",
       "  </thead>\n",
       "  <tbody>\n",
       "    <tr>\n",
       "      <th>0</th>\n",
       "      <td>2022-03-01 09:00:00</td>\n",
       "      <td>00e120bb-89d6-4df5-bc48-a051148e3d03</td>\n",
       "      <td>0.89</td>\n",
       "      <td>3.0</td>\n",
       "      <td>-0.02885</td>\n",
       "    </tr>\n",
       "    <tr>\n",
       "      <th>1</th>\n",
       "      <td>2022-03-01 09:00:00</td>\n",
       "      <td>01f3cdd9-8e9e-4dff-9b5c-69698a0388d0</td>\n",
       "      <td>0.14</td>\n",
       "      <td>3.0</td>\n",
       "      <td>-0.02885</td>\n",
       "    </tr>\n",
       "    <tr>\n",
       "      <th>2</th>\n",
       "      <td>2022-03-01 09:00:00</td>\n",
       "      <td>01ff0803-ae73-4234-971d-5713c97b7f4b</td>\n",
       "      <td>0.67</td>\n",
       "      <td>NaN</td>\n",
       "      <td>-0.02885</td>\n",
       "    </tr>\n",
       "    <tr>\n",
       "      <th>3</th>\n",
       "      <td>2022-03-01 09:00:00</td>\n",
       "      <td>0363eb21-8c74-47e1-a216-c37e565e5ceb</td>\n",
       "      <td>0.82</td>\n",
       "      <td>NaN</td>\n",
       "      <td>-0.02885</td>\n",
       "    </tr>\n",
       "    <tr>\n",
       "      <th>4</th>\n",
       "      <td>2022-03-01 09:00:00</td>\n",
       "      <td>03f0b20e-3b5b-444f-bc39-cdfa2523d4bc</td>\n",
       "      <td>0.05</td>\n",
       "      <td>NaN</td>\n",
       "      <td>-0.02885</td>\n",
       "    </tr>\n",
       "  </tbody>\n",
       "</table>\n",
       "</div>"
      ],
      "text/plain": [
       "            timestamp                            product_id  \\\n",
       "0 2022-03-01 09:00:00  00e120bb-89d6-4df5-bc48-a051148e3d03   \n",
       "1 2022-03-01 09:00:00  01f3cdd9-8e9e-4dff-9b5c-69698a0388d0   \n",
       "2 2022-03-01 09:00:00  01ff0803-ae73-4234-971d-5713c97b7f4b   \n",
       "3 2022-03-01 09:00:00  0363eb21-8c74-47e1-a216-c37e565e5ceb   \n",
       "4 2022-03-01 09:00:00  03f0b20e-3b5b-444f-bc39-cdfa2523d4bc   \n",
       "\n",
       "   estimated_stock_pct  quantity  temperature  \n",
       "0                 0.89       3.0     -0.02885  \n",
       "1                 0.14       3.0     -0.02885  \n",
       "2                 0.67       NaN     -0.02885  \n",
       "3                 0.82       NaN     -0.02885  \n",
       "4                 0.05       NaN     -0.02885  "
      ]
     },
     "execution_count": 41,
     "metadata": {},
     "output_type": "execute_result"
    }
   ],
   "source": [
    "merged_dff = merged_df.merge(temp_agg, on='timestamp', how='left')\n",
    "merged_dff.head()\n"
   ]
  },
  {
   "cell_type": "code",
   "execution_count": 42,
   "id": "1d646577",
   "metadata": {},
   "outputs": [
    {
     "name": "stdout",
     "output_type": "stream",
     "text": [
      "<class 'pandas.core.frame.DataFrame'>\n",
      "Int64Index: 10845 entries, 0 to 10844\n",
      "Data columns (total 5 columns):\n",
      " #   Column               Non-Null Count  Dtype         \n",
      "---  ------               --------------  -----         \n",
      " 0   timestamp            10845 non-null  datetime64[ns]\n",
      " 1   product_id           10845 non-null  object        \n",
      " 2   estimated_stock_pct  10845 non-null  float64       \n",
      " 3   quantity             3067 non-null   float64       \n",
      " 4   temperature          10845 non-null  float64       \n",
      "dtypes: datetime64[ns](1), float64(3), object(1)\n",
      "memory usage: 508.4+ KB\n"
     ]
    }
   ],
   "source": [
    "merged_dff.info()"
   ]
  },
  {
   "cell_type": "code",
   "execution_count": 44,
   "id": "b5834377",
   "metadata": {},
   "outputs": [
    {
     "data": {
      "text/plain": [
       "<function matplotlib.pyplot.show(close=None, block=None)>"
      ]
     },
     "execution_count": 44,
     "metadata": {},
     "output_type": "execute_result"
    },
    {
     "data": {
      "image/png": "[encoded data removed]",
      "text/plain": [
       "<Figure size 640x480 with 1 Axes>"
      ]
     },
     "metadata": {},
     "output_type": "display_data"
    }
   ],
   "source": [
    "plt.hist(merged_dff[\"quantity\"])\n",
    "plt.show"
   ]
  },
  {
   "cell_type": "code",
   "execution_count": 45,
   "id": "15e078a9",
   "metadata": {},
   "outputs": [
    {
     "name": "stdout",
     "output_type": "stream",
     "text": [
      "<class 'pandas.core.frame.DataFrame'>\n",
      "Int64Index: 10845 entries, 0 to 10844\n",
      "Data columns (total 5 columns):\n",
      " #   Column               Non-Null Count  Dtype         \n",
      "---  ------               --------------  -----         \n",
      " 0   timestamp            10845 non-null  datetime64[ns]\n",
      " 1   product_id           10845 non-null  object        \n",
      " 2   estimated_stock_pct  10845 non-null  float64       \n",
      " 3   quantity             10845 non-null  float64       \n",
      " 4   temperature          10845 non-null  float64       \n",
      "dtypes: datetime64[ns](1), float64(3), object(1)\n",
      "memory usage: 508.4+ KB\n"
     ]
    }
   ],
   "source": [
    "merged_dff[\"quantity\"] = merged_df[\"quantity\"].fillna(0)\n",
    "merged_dff.info()"
   ]
  },
  {
   "cell_type": "code",
   "execution_count": 46,
   "id": "a7208a46",
   "metadata": {},
   "outputs": [
    {
     "data": {
      "image/png": "[encoded data removed]",
      "text/plain": [
       "<Figure size 640x480 with 1 Axes>"
      ]
     },
     "metadata": {},
     "output_type": "display_data"
    }
   ],
   "source": [
    "plt.hist(merged_dff[\"quantity\"])\n",
    "plt.show()"
   ]
  },
  {
   "cell_type": "code",
   "execution_count": 47,
   "id": "30d35ba9",
   "metadata": {},
   "outputs": [],
   "source": [
    "product_categories = df[[\"product_id\", \"category\"]]\n",
    "product_categories = product_categories.drop_duplicates()\n",
    "\n",
    "product_price = df[[\"product_id\", \"unit_price\"]]\n",
    "product_price = product_price.drop_duplicates()"
   ]
  },
  {
   "cell_type": "code",
   "execution_count": 48,
   "id": "74cafd5b",
   "metadata": {},
   "outputs": [
    {
     "data": {
      "text/html": [
       "<div>\n",
       "<style scoped>\n",
       "    .dataframe tbody tr th:only-of-type {\n",
       "        vertical-align: middle;\n",
       "    }\n",
       "\n",
       "    .dataframe tbody tr th {\n",
       "        vertical-align: top;\n",
       "    }\n",
       "\n",
       "    .dataframe thead th {\n",
       "        text-align: right;\n",
       "    }\n",
       "</style>\n",
       "<table border=\"1\" class=\"dataframe\">\n",
       "  <thead>\n",
       "    <tr style=\"text-align: right;\">\n",
       "      <th></th>\n",
       "      <th>timestamp</th>\n",
       "      <th>product_id</th>\n",
       "      <th>estimated_stock_pct</th>\n",
       "      <th>quantity</th>\n",
       "      <th>temperature</th>\n",
       "      <th>category</th>\n",
       "      <th>unit_price</th>\n",
       "    </tr>\n",
       "  </thead>\n",
       "  <tbody>\n",
       "    <tr>\n",
       "      <th>0</th>\n",
       "      <td>2022-03-01 09:00:00</td>\n",
       "      <td>00e120bb-89d6-4df5-bc48-a051148e3d03</td>\n",
       "      <td>0.89</td>\n",
       "      <td>3.0</td>\n",
       "      <td>-0.02885</td>\n",
       "      <td>kitchen</td>\n",
       "      <td>11.19</td>\n",
       "    </tr>\n",
       "    <tr>\n",
       "      <th>1</th>\n",
       "      <td>2022-03-01 09:00:00</td>\n",
       "      <td>01f3cdd9-8e9e-4dff-9b5c-69698a0388d0</td>\n",
       "      <td>0.14</td>\n",
       "      <td>3.0</td>\n",
       "      <td>-0.02885</td>\n",
       "      <td>vegetables</td>\n",
       "      <td>1.49</td>\n",
       "    </tr>\n",
       "    <tr>\n",
       "      <th>2</th>\n",
       "      <td>2022-03-01 09:00:00</td>\n",
       "      <td>01ff0803-ae73-4234-971d-5713c97b7f4b</td>\n",
       "      <td>0.67</td>\n",
       "      <td>0.0</td>\n",
       "      <td>-0.02885</td>\n",
       "      <td>baby products</td>\n",
       "      <td>14.19</td>\n",
       "    </tr>\n",
       "    <tr>\n",
       "      <th>3</th>\n",
       "      <td>2022-03-01 09:00:00</td>\n",
       "      <td>0363eb21-8c74-47e1-a216-c37e565e5ceb</td>\n",
       "      <td>0.82</td>\n",
       "      <td>0.0</td>\n",
       "      <td>-0.02885</td>\n",
       "      <td>beverages</td>\n",
       "      <td>20.19</td>\n",
       "    </tr>\n",
       "    <tr>\n",
       "      <th>4</th>\n",
       "      <td>2022-03-01 09:00:00</td>\n",
       "      <td>03f0b20e-3b5b-444f-bc39-cdfa2523d4bc</td>\n",
       "      <td>0.05</td>\n",
       "      <td>0.0</td>\n",
       "      <td>-0.02885</td>\n",
       "      <td>pets</td>\n",
       "      <td>8.19</td>\n",
       "    </tr>\n",
       "  </tbody>\n",
       "</table>\n",
       "</div>"
      ],
      "text/plain": [
       "            timestamp                            product_id  \\\n",
       "0 2022-03-01 09:00:00  00e120bb-89d6-4df5-bc48-a051148e3d03   \n",
       "1 2022-03-01 09:00:00  01f3cdd9-8e9e-4dff-9b5c-69698a0388d0   \n",
       "2 2022-03-01 09:00:00  01ff0803-ae73-4234-971d-5713c97b7f4b   \n",
       "3 2022-03-01 09:00:00  0363eb21-8c74-47e1-a216-c37e565e5ceb   \n",
       "4 2022-03-01 09:00:00  03f0b20e-3b5b-444f-bc39-cdfa2523d4bc   \n",
       "\n",
       "   estimated_stock_pct  quantity  temperature       category  unit_price  \n",
       "0                 0.89       3.0     -0.02885        kitchen       11.19  \n",
       "1                 0.14       3.0     -0.02885     vegetables        1.49  \n",
       "2                 0.67       0.0     -0.02885  baby products       14.19  \n",
       "3                 0.82       0.0     -0.02885      beverages       20.19  \n",
       "4                 0.05       0.0     -0.02885           pets        8.19  "
      ]
     },
     "execution_count": 48,
     "metadata": {},
     "output_type": "execute_result"
    }
   ],
   "source": [
    "merged_dff = merged_dff.merge(product_categories, on=\"product_id\", how=\"left\")\n",
    "merged_dff = merged_dff.merge(product_price, on=\"product_id\", how=\"left\")\n",
    "merged_dff.head()"
   ]
  },
  {
   "cell_type": "code",
   "execution_count": 49,
   "id": "fcac6c80",
   "metadata": {},
   "outputs": [
    {
     "name": "stdout",
     "output_type": "stream",
     "text": [
      "<class 'pandas.core.frame.DataFrame'>\n",
      "Int64Index: 10845 entries, 0 to 10844\n",
      "Data columns (total 7 columns):\n",
      " #   Column               Non-Null Count  Dtype         \n",
      "---  ------               --------------  -----         \n",
      " 0   timestamp            10845 non-null  datetime64[ns]\n",
      " 1   product_id           10845 non-null  object        \n",
      " 2   estimated_stock_pct  10845 non-null  float64       \n",
      " 3   quantity             10845 non-null  float64       \n",
      " 4   temperature          10845 non-null  float64       \n",
      " 5   category             10845 non-null  object        \n",
      " 6   unit_price           10845 non-null  float64       \n",
      "dtypes: datetime64[ns](1), float64(4), object(2)\n",
      "memory usage: 677.8+ KB\n"
     ]
    }
   ],
   "source": [
    "merged_dff.info()"
   ]
  },
  {
   "cell_type": "markdown",
   "id": "a096ecfa",
   "metadata": {},
   "source": [
    "Now we have a single merged df, which contains all the relevant information for model prediction"
   ]
  },
  {
   "cell_type": "markdown",
   "id": "30f7715e",
   "metadata": {},
   "source": [
    "# Feature Engineering"
   ]
  },
  {
   "cell_type": "code",
   "execution_count": 50,
   "id": "d660b6b7",
   "metadata": {},
   "outputs": [
    {
     "data": {
      "text/html": [
       "<div>\n",
       "<style scoped>\n",
       "    .dataframe tbody tr th:only-of-type {\n",
       "        vertical-align: middle;\n",
       "    }\n",
       "\n",
       "    .dataframe tbody tr th {\n",
       "        vertical-align: top;\n",
       "    }\n",
       "\n",
       "    .dataframe thead th {\n",
       "        text-align: right;\n",
       "    }\n",
       "</style>\n",
       "<table border=\"1\" class=\"dataframe\">\n",
       "  <thead>\n",
       "    <tr style=\"text-align: right;\">\n",
       "      <th></th>\n",
       "      <th>product_id</th>\n",
       "      <th>estimated_stock_pct</th>\n",
       "      <th>quantity</th>\n",
       "      <th>temperature</th>\n",
       "      <th>category</th>\n",
       "      <th>unit_price</th>\n",
       "      <th>Day of Month</th>\n",
       "      <th>Day of Week</th>\n",
       "      <th>Hour</th>\n",
       "    </tr>\n",
       "  </thead>\n",
       "  <tbody>\n",
       "    <tr>\n",
       "      <th>0</th>\n",
       "      <td>00e120bb-89d6-4df5-bc48-a051148e3d03</td>\n",
       "      <td>0.89</td>\n",
       "      <td>3.0</td>\n",
       "      <td>-0.02885</td>\n",
       "      <td>kitchen</td>\n",
       "      <td>11.19</td>\n",
       "      <td>1</td>\n",
       "      <td>1</td>\n",
       "      <td>9</td>\n",
       "    </tr>\n",
       "    <tr>\n",
       "      <th>1</th>\n",
       "      <td>01f3cdd9-8e9e-4dff-9b5c-69698a0388d0</td>\n",
       "      <td>0.14</td>\n",
       "      <td>3.0</td>\n",
       "      <td>-0.02885</td>\n",
       "      <td>vegetables</td>\n",
       "      <td>1.49</td>\n",
       "      <td>1</td>\n",
       "      <td>1</td>\n",
       "      <td>9</td>\n",
       "    </tr>\n",
       "    <tr>\n",
       "      <th>2</th>\n",
       "      <td>01ff0803-ae73-4234-971d-5713c97b7f4b</td>\n",
       "      <td>0.67</td>\n",
       "      <td>0.0</td>\n",
       "      <td>-0.02885</td>\n",
       "      <td>baby products</td>\n",
       "      <td>14.19</td>\n",
       "      <td>1</td>\n",
       "      <td>1</td>\n",
       "      <td>9</td>\n",
       "    </tr>\n",
       "    <tr>\n",
       "      <th>3</th>\n",
       "      <td>0363eb21-8c74-47e1-a216-c37e565e5ceb</td>\n",
       "      <td>0.82</td>\n",
       "      <td>0.0</td>\n",
       "      <td>-0.02885</td>\n",
       "      <td>beverages</td>\n",
       "      <td>20.19</td>\n",
       "      <td>1</td>\n",
       "      <td>1</td>\n",
       "      <td>9</td>\n",
       "    </tr>\n",
       "    <tr>\n",
       "      <th>4</th>\n",
       "      <td>03f0b20e-3b5b-444f-bc39-cdfa2523d4bc</td>\n",
       "      <td>0.05</td>\n",
       "      <td>0.0</td>\n",
       "      <td>-0.02885</td>\n",
       "      <td>pets</td>\n",
       "      <td>8.19</td>\n",
       "      <td>1</td>\n",
       "      <td>1</td>\n",
       "      <td>9</td>\n",
       "    </tr>\n",
       "  </tbody>\n",
       "</table>\n",
       "</div>"
      ],
      "text/plain": [
       "                             product_id  estimated_stock_pct  quantity  \\\n",
       "0  00e120bb-89d6-4df5-bc48-a051148e3d03                 0.89       3.0   \n",
       "1  01f3cdd9-8e9e-4dff-9b5c-69698a0388d0                 0.14       3.0   \n",
       "2  01ff0803-ae73-4234-971d-5713c97b7f4b                 0.67       0.0   \n",
       "3  0363eb21-8c74-47e1-a216-c37e565e5ceb                 0.82       0.0   \n",
       "4  03f0b20e-3b5b-444f-bc39-cdfa2523d4bc                 0.05       0.0   \n",
       "\n",
       "   temperature       category  unit_price  Day of Month  Day of Week  Hour  \n",
       "0     -0.02885        kitchen       11.19             1            1     9  \n",
       "1     -0.02885     vegetables        1.49             1            1     9  \n",
       "2     -0.02885  baby products       14.19             1            1     9  \n",
       "3     -0.02885      beverages       20.19             1            1     9  \n",
       "4     -0.02885           pets        8.19             1            1     9  "
      ]
     },
     "execution_count": 50,
     "metadata": {},
     "output_type": "execute_result"
    }
   ],
   "source": [
    "merged_dff[\"Day of Month\"] = merged_df[\"timestamp\"].dt.day\n",
    "merged_dff[\"Day of Week\"] = merged_df[\"timestamp\"].dt.dayofweek\n",
    "merged_dff[\"Hour\"] = merged_df[\"timestamp\"].dt.hour\n",
    "merged_dff.drop(columns=[\"timestamp\"], inplace=True)\n",
    "merged_dff.head()"
   ]
  },
  {
   "cell_type": "code",
   "execution_count": 51,
   "id": "a32fff5c",
   "metadata": {},
   "outputs": [
    {
     "name": "stderr",
     "output_type": "stream",
     "text": [
      "C:\\Users\\Owais Akram\\AppData\\Local\\Temp\\ipykernel_16260\\1387488362.py:1: FutureWarning: The default value of numeric_only in DataFrame.corr is deprecated. In a future version, it will default to False. Select only valid columns or specify the value of numeric_only to silence this warning.\n",
      "  merged_dff.corr()\n"
     ]
    },
    {
     "data": {
      "text/html": [
       "<div>\n",
       "<style scoped>\n",
       "    .dataframe tbody tr th:only-of-type {\n",
       "        vertical-align: middle;\n",
       "    }\n",
       "\n",
       "    .dataframe tbody tr th {\n",
       "        vertical-align: top;\n",
       "    }\n",
       "\n",
       "    .dataframe thead th {\n",
       "        text-align: right;\n",
       "    }\n",
       "</style>\n",
       "<table border=\"1\" class=\"dataframe\">\n",
       "  <thead>\n",
       "    <tr style=\"text-align: right;\">\n",
       "      <th></th>\n",
       "      <th>estimated_stock_pct</th>\n",
       "      <th>quantity</th>\n",
       "      <th>temperature</th>\n",
       "      <th>unit_price</th>\n",
       "      <th>Day of Month</th>\n",
       "      <th>Day of Week</th>\n",
       "      <th>Hour</th>\n",
       "    </tr>\n",
       "  </thead>\n",
       "  <tbody>\n",
       "    <tr>\n",
       "      <th>estimated_stock_pct</th>\n",
       "      <td>1.000000</td>\n",
       "      <td>0.012929</td>\n",
       "      <td>0.007955</td>\n",
       "      <td>-0.024479</td>\n",
       "      <td>0.001786</td>\n",
       "      <td>-0.013880</td>\n",
       "      <td>0.012894</td>\n",
       "    </tr>\n",
       "    <tr>\n",
       "      <th>quantity</th>\n",
       "      <td>0.012929</td>\n",
       "      <td>1.000000</td>\n",
       "      <td>-0.017771</td>\n",
       "      <td>-0.108101</td>\n",
       "      <td>-0.005037</td>\n",
       "      <td>-0.005017</td>\n",
       "      <td>0.010141</td>\n",
       "    </tr>\n",
       "    <tr>\n",
       "      <th>temperature</th>\n",
       "      <td>0.007955</td>\n",
       "      <td>-0.017771</td>\n",
       "      <td>1.000000</td>\n",
       "      <td>0.002874</td>\n",
       "      <td>-0.039034</td>\n",
       "      <td>0.028880</td>\n",
       "      <td>0.054904</td>\n",
       "    </tr>\n",
       "    <tr>\n",
       "      <th>unit_price</th>\n",
       "      <td>-0.024479</td>\n",
       "      <td>-0.108101</td>\n",
       "      <td>0.002874</td>\n",
       "      <td>1.000000</td>\n",
       "      <td>-0.002841</td>\n",
       "      <td>-0.003186</td>\n",
       "      <td>-0.004508</td>\n",
       "    </tr>\n",
       "    <tr>\n",
       "      <th>Day of Month</th>\n",
       "      <td>0.001786</td>\n",
       "      <td>-0.005037</td>\n",
       "      <td>-0.039034</td>\n",
       "      <td>-0.002841</td>\n",
       "      <td>1.000000</td>\n",
       "      <td>0.234703</td>\n",
       "      <td>0.008650</td>\n",
       "    </tr>\n",
       "    <tr>\n",
       "      <th>Day of Week</th>\n",
       "      <td>-0.013880</td>\n",
       "      <td>-0.005017</td>\n",
       "      <td>0.028880</td>\n",
       "      <td>-0.003186</td>\n",
       "      <td>0.234703</td>\n",
       "      <td>1.000000</td>\n",
       "      <td>-0.007717</td>\n",
       "    </tr>\n",
       "    <tr>\n",
       "      <th>Hour</th>\n",
       "      <td>0.012894</td>\n",
       "      <td>0.010141</td>\n",
       "      <td>0.054904</td>\n",
       "      <td>-0.004508</td>\n",
       "      <td>0.008650</td>\n",
       "      <td>-0.007717</td>\n",
       "      <td>1.000000</td>\n",
       "    </tr>\n",
       "  </tbody>\n",
       "</table>\n",
       "</div>"
      ],
      "text/plain": [
       "                     estimated_stock_pct  quantity  temperature  unit_price  \\\n",
       "estimated_stock_pct             1.000000  0.012929     0.007955   -0.024479   \n",
       "quantity                        0.012929  1.000000    -0.017771   -0.108101   \n",
       "temperature                     0.007955 -0.017771     1.000000    0.002874   \n",
       "unit_price                     -0.024479 -0.108101     0.002874    1.000000   \n",
       "Day of Month                    0.001786 -0.005037    -0.039034   -0.002841   \n",
       "Day of Week                    -0.013880 -0.005017     0.028880   -0.003186   \n",
       "Hour                            0.012894  0.010141     0.054904   -0.004508   \n",
       "\n",
       "                     Day of Month  Day of Week      Hour  \n",
       "estimated_stock_pct      0.001786    -0.013880  0.012894  \n",
       "quantity                -0.005037    -0.005017  0.010141  \n",
       "temperature             -0.039034     0.028880  0.054904  \n",
       "unit_price              -0.002841    -0.003186 -0.004508  \n",
       "Day of Month             1.000000     0.234703  0.008650  \n",
       "Day of Week              0.234703     1.000000 -0.007717  \n",
       "Hour                     0.008650    -0.007717  1.000000  "
      ]
     },
     "execution_count": 51,
     "metadata": {},
     "output_type": "execute_result"
    }
   ],
   "source": [
    "merged_dff.corr()"
   ]
  },
  {
   "cell_type": "code",
   "execution_count": 52,
   "id": "fdbb1ac3",
   "metadata": {},
   "outputs": [
    {
     "data": {
      "text/html": [
       "<div>\n",
       "<style scoped>\n",
       "    .dataframe tbody tr th:only-of-type {\n",
       "        vertical-align: middle;\n",
       "    }\n",
       "\n",
       "    .dataframe tbody tr th {\n",
       "        vertical-align: top;\n",
       "    }\n",
       "\n",
       "    .dataframe thead th {\n",
       "        text-align: right;\n",
       "    }\n",
       "</style>\n",
       "<table border=\"1\" class=\"dataframe\">\n",
       "  <thead>\n",
       "    <tr style=\"text-align: right;\">\n",
       "      <th></th>\n",
       "      <th>product_id</th>\n",
       "      <th>estimated_stock_pct</th>\n",
       "      <th>quantity</th>\n",
       "      <th>temperature</th>\n",
       "      <th>unit_price</th>\n",
       "      <th>Day of Month</th>\n",
       "      <th>Day of Week</th>\n",
       "      <th>Hour</th>\n",
       "      <th>category_baby products</th>\n",
       "      <th>category_baked goods</th>\n",
       "      <th>...</th>\n",
       "      <th>category_meat</th>\n",
       "      <th>category_medicine</th>\n",
       "      <th>category_packaged foods</th>\n",
       "      <th>category_personal care</th>\n",
       "      <th>category_pets</th>\n",
       "      <th>category_refrigerated items</th>\n",
       "      <th>category_seafood</th>\n",
       "      <th>category_snacks</th>\n",
       "      <th>category_spices and herbs</th>\n",
       "      <th>category_vegetables</th>\n",
       "    </tr>\n",
       "  </thead>\n",
       "  <tbody>\n",
       "    <tr>\n",
       "      <th>0</th>\n",
       "      <td>00e120bb-89d6-4df5-bc48-a051148e3d03</td>\n",
       "      <td>0.89</td>\n",
       "      <td>3.0</td>\n",
       "      <td>-0.02885</td>\n",
       "      <td>11.19</td>\n",
       "      <td>1</td>\n",
       "      <td>1</td>\n",
       "      <td>9</td>\n",
       "      <td>0</td>\n",
       "      <td>0</td>\n",
       "      <td>...</td>\n",
       "      <td>0</td>\n",
       "      <td>0</td>\n",
       "      <td>0</td>\n",
       "      <td>0</td>\n",
       "      <td>0</td>\n",
       "      <td>0</td>\n",
       "      <td>0</td>\n",
       "      <td>0</td>\n",
       "      <td>0</td>\n",
       "      <td>0</td>\n",
       "    </tr>\n",
       "    <tr>\n",
       "      <th>1</th>\n",
       "      <td>01f3cdd9-8e9e-4dff-9b5c-69698a0388d0</td>\n",
       "      <td>0.14</td>\n",
       "      <td>3.0</td>\n",
       "      <td>-0.02885</td>\n",
       "      <td>1.49</td>\n",
       "      <td>1</td>\n",
       "      <td>1</td>\n",
       "      <td>9</td>\n",
       "      <td>0</td>\n",
       "      <td>0</td>\n",
       "      <td>...</td>\n",
       "      <td>0</td>\n",
       "      <td>0</td>\n",
       "      <td>0</td>\n",
       "      <td>0</td>\n",
       "      <td>0</td>\n",
       "      <td>0</td>\n",
       "      <td>0</td>\n",
       "      <td>0</td>\n",
       "      <td>0</td>\n",
       "      <td>1</td>\n",
       "    </tr>\n",
       "    <tr>\n",
       "      <th>2</th>\n",
       "      <td>01ff0803-ae73-4234-971d-5713c97b7f4b</td>\n",
       "      <td>0.67</td>\n",
       "      <td>0.0</td>\n",
       "      <td>-0.02885</td>\n",
       "      <td>14.19</td>\n",
       "      <td>1</td>\n",
       "      <td>1</td>\n",
       "      <td>9</td>\n",
       "      <td>1</td>\n",
       "      <td>0</td>\n",
       "      <td>...</td>\n",
       "      <td>0</td>\n",
       "      <td>0</td>\n",
       "      <td>0</td>\n",
       "      <td>0</td>\n",
       "      <td>0</td>\n",
       "      <td>0</td>\n",
       "      <td>0</td>\n",
       "      <td>0</td>\n",
       "      <td>0</td>\n",
       "      <td>0</td>\n",
       "    </tr>\n",
       "    <tr>\n",
       "      <th>3</th>\n",
       "      <td>0363eb21-8c74-47e1-a216-c37e565e5ceb</td>\n",
       "      <td>0.82</td>\n",
       "      <td>0.0</td>\n",
       "      <td>-0.02885</td>\n",
       "      <td>20.19</td>\n",
       "      <td>1</td>\n",
       "      <td>1</td>\n",
       "      <td>9</td>\n",
       "      <td>0</td>\n",
       "      <td>0</td>\n",
       "      <td>...</td>\n",
       "      <td>0</td>\n",
       "      <td>0</td>\n",
       "      <td>0</td>\n",
       "      <td>0</td>\n",
       "      <td>0</td>\n",
       "      <td>0</td>\n",
       "      <td>0</td>\n",
       "      <td>0</td>\n",
       "      <td>0</td>\n",
       "      <td>0</td>\n",
       "    </tr>\n",
       "    <tr>\n",
       "      <th>4</th>\n",
       "      <td>03f0b20e-3b5b-444f-bc39-cdfa2523d4bc</td>\n",
       "      <td>0.05</td>\n",
       "      <td>0.0</td>\n",
       "      <td>-0.02885</td>\n",
       "      <td>8.19</td>\n",
       "      <td>1</td>\n",
       "      <td>1</td>\n",
       "      <td>9</td>\n",
       "      <td>0</td>\n",
       "      <td>0</td>\n",
       "      <td>...</td>\n",
       "      <td>0</td>\n",
       "      <td>0</td>\n",
       "      <td>0</td>\n",
       "      <td>0</td>\n",
       "      <td>1</td>\n",
       "      <td>0</td>\n",
       "      <td>0</td>\n",
       "      <td>0</td>\n",
       "      <td>0</td>\n",
       "      <td>0</td>\n",
       "    </tr>\n",
       "    <tr>\n",
       "      <th>5</th>\n",
       "      <td>0998699f-2fec-454e-b8b0-4f701947fef6</td>\n",
       "      <td>0.10</td>\n",
       "      <td>0.0</td>\n",
       "      <td>-0.02885</td>\n",
       "      <td>15.99</td>\n",
       "      <td>1</td>\n",
       "      <td>1</td>\n",
       "      <td>9</td>\n",
       "      <td>0</td>\n",
       "      <td>0</td>\n",
       "      <td>...</td>\n",
       "      <td>0</td>\n",
       "      <td>0</td>\n",
       "      <td>0</td>\n",
       "      <td>0</td>\n",
       "      <td>0</td>\n",
       "      <td>0</td>\n",
       "      <td>0</td>\n",
       "      <td>0</td>\n",
       "      <td>0</td>\n",
       "      <td>0</td>\n",
       "    </tr>\n",
       "    <tr>\n",
       "      <th>6</th>\n",
       "      <td>0cb046e3-a86b-47ae-9751-3b0f9c596f99</td>\n",
       "      <td>0.83</td>\n",
       "      <td>0.0</td>\n",
       "      <td>-0.02885</td>\n",
       "      <td>11.19</td>\n",
       "      <td>1</td>\n",
       "      <td>1</td>\n",
       "      <td>9</td>\n",
       "      <td>0</td>\n",
       "      <td>0</td>\n",
       "      <td>...</td>\n",
       "      <td>0</td>\n",
       "      <td>0</td>\n",
       "      <td>0</td>\n",
       "      <td>0</td>\n",
       "      <td>1</td>\n",
       "      <td>0</td>\n",
       "      <td>0</td>\n",
       "      <td>0</td>\n",
       "      <td>0</td>\n",
       "      <td>0</td>\n",
       "    </tr>\n",
       "    <tr>\n",
       "      <th>7</th>\n",
       "      <td>0cc2986e-934c-447e-8f7b-a57b2ceb8693</td>\n",
       "      <td>0.67</td>\n",
       "      <td>0.0</td>\n",
       "      <td>-0.02885</td>\n",
       "      <td>16.19</td>\n",
       "      <td>1</td>\n",
       "      <td>1</td>\n",
       "      <td>9</td>\n",
       "      <td>0</td>\n",
       "      <td>0</td>\n",
       "      <td>...</td>\n",
       "      <td>1</td>\n",
       "      <td>0</td>\n",
       "      <td>0</td>\n",
       "      <td>0</td>\n",
       "      <td>0</td>\n",
       "      <td>0</td>\n",
       "      <td>0</td>\n",
       "      <td>0</td>\n",
       "      <td>0</td>\n",
       "      <td>0</td>\n",
       "    </tr>\n",
       "    <tr>\n",
       "      <th>8</th>\n",
       "      <td>0ddc2379-adba-4fb0-aa97-19fcafc738a1</td>\n",
       "      <td>0.35</td>\n",
       "      <td>3.0</td>\n",
       "      <td>-0.02885</td>\n",
       "      <td>3.99</td>\n",
       "      <td>1</td>\n",
       "      <td>1</td>\n",
       "      <td>9</td>\n",
       "      <td>0</td>\n",
       "      <td>0</td>\n",
       "      <td>...</td>\n",
       "      <td>0</td>\n",
       "      <td>0</td>\n",
       "      <td>0</td>\n",
       "      <td>0</td>\n",
       "      <td>0</td>\n",
       "      <td>0</td>\n",
       "      <td>0</td>\n",
       "      <td>0</td>\n",
       "      <td>0</td>\n",
       "      <td>0</td>\n",
       "    </tr>\n",
       "    <tr>\n",
       "      <th>9</th>\n",
       "      <td>0ec3890d-f4be-48a4-9358-291b3da7f578</td>\n",
       "      <td>0.92</td>\n",
       "      <td>0.0</td>\n",
       "      <td>-0.02885</td>\n",
       "      <td>4.99</td>\n",
       "      <td>1</td>\n",
       "      <td>1</td>\n",
       "      <td>9</td>\n",
       "      <td>0</td>\n",
       "      <td>0</td>\n",
       "      <td>...</td>\n",
       "      <td>0</td>\n",
       "      <td>0</td>\n",
       "      <td>0</td>\n",
       "      <td>0</td>\n",
       "      <td>0</td>\n",
       "      <td>0</td>\n",
       "      <td>0</td>\n",
       "      <td>0</td>\n",
       "      <td>1</td>\n",
       "      <td>0</td>\n",
       "    </tr>\n",
       "  </tbody>\n",
       "</table>\n",
       "<p>10 rows × 30 columns</p>\n",
       "</div>"
      ],
      "text/plain": [
       "                             product_id  estimated_stock_pct  quantity  \\\n",
       "0  00e120bb-89d6-4df5-bc48-a051148e3d03                 0.89       3.0   \n",
       "1  01f3cdd9-8e9e-4dff-9b5c-69698a0388d0                 0.14       3.0   \n",
       "2  01ff0803-ae73-4234-971d-5713c97b7f4b                 0.67       0.0   \n",
       "3  0363eb21-8c74-47e1-a216-c37e565e5ceb                 0.82       0.0   \n",
       "4  03f0b20e-3b5b-444f-bc39-cdfa2523d4bc                 0.05       0.0   \n",
       "5  0998699f-2fec-454e-b8b0-4f701947fef6                 0.10       0.0   \n",
       "6  0cb046e3-a86b-47ae-9751-3b0f9c596f99                 0.83       0.0   \n",
       "7  0cc2986e-934c-447e-8f7b-a57b2ceb8693                 0.67       0.0   \n",
       "8  0ddc2379-adba-4fb0-aa97-19fcafc738a1                 0.35       3.0   \n",
       "9  0ec3890d-f4be-48a4-9358-291b3da7f578                 0.92       0.0   \n",
       "\n",
       "   temperature  unit_price  Day of Month  Day of Week  Hour  \\\n",
       "0     -0.02885       11.19             1            1     9   \n",
       "1     -0.02885        1.49             1            1     9   \n",
       "2     -0.02885       14.19             1            1     9   \n",
       "3     -0.02885       20.19             1            1     9   \n",
       "4     -0.02885        8.19             1            1     9   \n",
       "5     -0.02885       15.99             1            1     9   \n",
       "6     -0.02885       11.19             1            1     9   \n",
       "7     -0.02885       16.19             1            1     9   \n",
       "8     -0.02885        3.99             1            1     9   \n",
       "9     -0.02885        4.99             1            1     9   \n",
       "\n",
       "   category_baby products  category_baked goods  ...  category_meat  \\\n",
       "0                       0                     0  ...              0   \n",
       "1                       0                     0  ...              0   \n",
       "2                       1                     0  ...              0   \n",
       "3                       0                     0  ...              0   \n",
       "4                       0                     0  ...              0   \n",
       "5                       0                     0  ...              0   \n",
       "6                       0                     0  ...              0   \n",
       "7                       0                     0  ...              1   \n",
       "8                       0                     0  ...              0   \n",
       "9                       0                     0  ...              0   \n",
       "\n",
       "   category_medicine  category_packaged foods  category_personal care  \\\n",
       "0                  0                        0                       0   \n",
       "1                  0                        0                       0   \n",
       "2                  0                        0                       0   \n",
       "3                  0                        0                       0   \n",
       "4                  0                        0                       0   \n",
       "5                  0                        0                       0   \n",
       "6                  0                        0                       0   \n",
       "7                  0                        0                       0   \n",
       "8                  0                        0                       0   \n",
       "9                  0                        0                       0   \n",
       "\n",
       "   category_pets  category_refrigerated items  category_seafood  \\\n",
       "0              0                            0                 0   \n",
       "1              0                            0                 0   \n",
       "2              0                            0                 0   \n",
       "3              0                            0                 0   \n",
       "4              1                            0                 0   \n",
       "5              0                            0                 0   \n",
       "6              1                            0                 0   \n",
       "7              0                            0                 0   \n",
       "8              0                            0                 0   \n",
       "9              0                            0                 0   \n",
       "\n",
       "   category_snacks  category_spices and herbs  category_vegetables  \n",
       "0                0                          0                    0  \n",
       "1                0                          0                    1  \n",
       "2                0                          0                    0  \n",
       "3                0                          0                    0  \n",
       "4                0                          0                    0  \n",
       "5                0                          0                    0  \n",
       "6                0                          0                    0  \n",
       "7                0                          0                    0  \n",
       "8                0                          0                    0  \n",
       "9                0                          1                    0  \n",
       "\n",
       "[10 rows x 30 columns]"
      ]
     },
     "execution_count": 52,
     "metadata": {},
     "output_type": "execute_result"
    }
   ],
   "source": [
    "dfn = pd.get_dummies(merged_dff,columns = [\"category\"])\n",
    "dfn.head(10)\n",
    "            "
   ]
  },
  {
   "cell_type": "code",
   "execution_count": 53,
   "id": "a0b302d3",
   "metadata": {},
   "outputs": [
    {
     "name": "stdout",
     "output_type": "stream",
     "text": [
      "<class 'pandas.core.frame.DataFrame'>\n",
      "Int64Index: 10845 entries, 0 to 10844\n",
      "Data columns (total 30 columns):\n",
      " #   Column                          Non-Null Count  Dtype  \n",
      "---  ------                          --------------  -----  \n",
      " 0   product_id                      10845 non-null  object \n",
      " 1   estimated_stock_pct             10845 non-null  float64\n",
      " 2   quantity                        10845 non-null  float64\n",
      " 3   temperature                     10845 non-null  float64\n",
      " 4   unit_price                      10845 non-null  float64\n",
      " 5   Day of Month                    10845 non-null  int64  \n",
      " 6   Day of Week                     10845 non-null  int64  \n",
      " 7   Hour                            10845 non-null  int64  \n",
      " 8   category_baby products          10845 non-null  uint8  \n",
      " 9   category_baked goods            10845 non-null  uint8  \n",
      " 10  category_baking                 10845 non-null  uint8  \n",
      " 11  category_beverages              10845 non-null  uint8  \n",
      " 12  category_canned foods           10845 non-null  uint8  \n",
      " 13  category_cheese                 10845 non-null  uint8  \n",
      " 14  category_cleaning products      10845 non-null  uint8  \n",
      " 15  category_condiments and sauces  10845 non-null  uint8  \n",
      " 16  category_dairy                  10845 non-null  uint8  \n",
      " 17  category_frozen                 10845 non-null  uint8  \n",
      " 18  category_fruit                  10845 non-null  uint8  \n",
      " 19  category_kitchen                10845 non-null  uint8  \n",
      " 20  category_meat                   10845 non-null  uint8  \n",
      " 21  category_medicine               10845 non-null  uint8  \n",
      " 22  category_packaged foods         10845 non-null  uint8  \n",
      " 23  category_personal care          10845 non-null  uint8  \n",
      " 24  category_pets                   10845 non-null  uint8  \n",
      " 25  category_refrigerated items     10845 non-null  uint8  \n",
      " 26  category_seafood                10845 non-null  uint8  \n",
      " 27  category_snacks                 10845 non-null  uint8  \n",
      " 28  category_spices and herbs       10845 non-null  uint8  \n",
      " 29  category_vegetables             10845 non-null  uint8  \n",
      "dtypes: float64(4), int64(3), object(1), uint8(22)\n",
      "memory usage: 995.5+ KB\n"
     ]
    }
   ],
   "source": [
    "dfn.info()"
   ]
  },
  {
   "cell_type": "markdown",
   "id": "271cfb55",
   "metadata": {},
   "source": [
    "Looking at the latest table, we only have 1 remaining column which is not numeric. This is the product_id. Since each row represents a unique combination of product_id and timestamp by hour, and the product_id is simply an ID column, it will add no value by including it in the predictive model. Hence, we shall remove it from the modeling process. This feature engineering was by no means exhaustive, but was enough to give you an example of the process followed when engineering the features of a dataset. In reality, this is an iterative task. Once you've built a model, you may have to revist feature engineering in order to create new features to boost the predictive power of a machine learning model."
   ]
  },
  {
   "cell_type": "markdown",
   "id": "7cd75211",
   "metadata": {},
   "source": [
    "# Modeling"
   ]
  },
  {
   "cell_type": "code",
   "execution_count": 54,
   "id": "1eaa4cee",
   "metadata": {},
   "outputs": [
    {
     "name": "stdout",
     "output_type": "stream",
     "text": [
      "(10845, 28)\n",
      "(10845,)\n"
     ]
    }
   ],
   "source": [
    "X = dfn.drop(columns=[\"estimated_stock_pct\",\"product_id\"])\n",
    "y = dfn[\"estimated_stock_pct\"]\n",
    "print(X.shape)\n",
    "print(y.shape)"
   ]
  },
  {
   "cell_type": "code",
   "execution_count": 55,
   "id": "2bc17844",
   "metadata": {},
   "outputs": [],
   "source": [
    "from sklearn.ensemble import RandomForestRegressor\n",
    "from sklearn.model_selection import train_test_split\n",
    "from sklearn.metrics import mean_absolute_error\n",
    "from sklearn.preprocessing import StandardScaler\n",
    "from sklearn.metrics import mean_squared_error, r2_score"
   ]
  },
  {
   "cell_type": "code",
   "execution_count": 56,
   "id": "d1401c77",
   "metadata": {},
   "outputs": [],
   "source": [
    "K = 10\n",
    "split = 0.70"
   ]
  },
  {
   "cell_type": "code",
   "execution_count": 57,
   "id": "0aa33f81",
   "metadata": {},
   "outputs": [
    {
     "name": "stdout",
     "output_type": "stream",
     "text": [
      "Fold 1: MAE = 0.236\n",
      "Fold 2: MAE = 0.236\n",
      "Fold 3: MAE = 0.236\n",
      "Fold 4: MAE = 0.236\n",
      "Fold 5: MAE = 0.236\n",
      "Fold 6: MAE = 0.236\n",
      "Fold 7: MAE = 0.236\n",
      "Fold 8: MAE = 0.236\n",
      "Fold 9: MAE = 0.235\n",
      "Fold 10: MAE = 0.236\n",
      "Average MAE: 0.24\n",
      "-0.16230370463627608\n"
     ]
    }
   ],
   "source": [
    "accuracy = []\n",
    "\n",
    "for fold in range(0, K):\n",
    "\n",
    "  # Instantiate algorithm\n",
    "  model = RandomForestRegressor()\n",
    "  scaler = StandardScaler()\n",
    "\n",
    "  # Create training and test samples\n",
    "  X_train, X_test, y_train, y_test = train_test_split(X, y, train_size=split, random_state=42)\n",
    "\n",
    "  # Scale X data, we scale the data because it helps the algorithm to converge\n",
    "  # and helps the algorithm to not be greedy with large values\n",
    "  scaler.fit(X_train)\n",
    "  X_train = scaler.transform(X_train)\n",
    "  X_test = scaler.transform(X_test)\n",
    "\n",
    "  # Train model\n",
    "  trained_model = model.fit(X_train, y_train)\n",
    "\n",
    "  # Generate predictions on test sample\n",
    "  y_pred = trained_model.predict(X_test)\n",
    "\n",
    "  # Compute accuracy, using mean absolute error\n",
    "  mae = mean_absolute_error(y_true=y_test, y_pred=y_pred)\n",
    "  r2 = r2_score(y_true=y_test, y_pred=y_pred)\n",
    "  accuracy.append(mae)\n",
    "  print(f\"Fold {fold + 1}: MAE = {mae:.3f}\")\n",
    "\n",
    "print(f\"Average MAE: {(sum(accuracy) / len(accuracy)):.2f}\")\n",
    "print(r2)"
   ]
  },
  {
   "cell_type": "code",
   "execution_count": 58,
   "id": "2416471b",
   "metadata": {},
   "outputs": [
    {
     "name": "stdout",
     "output_type": "stream",
     "text": [
      "Mean Squared Error: 0.08\n",
      "R-squared Score: -0.09\n"
     ]
    }
   ],
   "source": [
    "from sklearn.model_selection import train_test_split\n",
    "from sklearn.preprocessing import StandardScaler\n",
    "from sklearn.svm import SVR\n",
    "from sklearn.metrics import mean_squared_error, r2_score\n",
    "X_train, X_test, y_train, y_test = train_test_split(X, y, test_size=0.2, random_state=42)\n",
    "\n",
    "# Feature scaling\n",
    "scaler = StandardScaler()\n",
    "X_train_scaled = scaler.fit_transform(X_train)\n",
    "X_test_scaled = scaler.transform(X_test)\n",
    "\n",
    "# Create SVR model\n",
    "svr = SVR(kernel='poly')  # You can try different kernels like 'rbf', 'poly', etc.\n",
    "\n",
    "# Train the model\n",
    "svr.fit(X_train_scaled, y_train)\n",
    "\n",
    "# Make predictions\n",
    "y_pred = svr.predict(X_test_scaled)\n",
    "\n",
    "# Evaluate the model\n",
    "mse = mean_squared_error(y_test, y_pred)\n",
    "r2 = r2_score(y_test, y_pred)\n",
    "\n",
    "print(f\"Mean Squared Error: {mse:.2f}\")\n",
    "print(f\"R-squared Score: {r2:.2f}\")"
   ]
  },
  {
   "cell_type": "markdown",
   "id": "1cc8c886",
   "metadata": {},
   "source": [
    "The low MSE of 0.08 is a positive sign, indicating that our model's predictions are relatively accurate in terms of squared differences.\n",
    "\n",
    "However, the negative R-squared score of -0.09 indicates that our SVR model is not explaining the variance in the target variable and is performing poorly overall.\n",
    "\n",
    "It's important to further analyze and potentially refine our model. we might want to investigate factors such as hyperparameter tuning, different kernel functions, feature engineering, and data quality to improve the model's performance and achieve a positive R-squared score closer to 1. Approximately the same result can be seen while using random forest reggressor using K Folds"
   ]
  },
  {
   "cell_type": "code",
   "execution_count": 59,
   "id": "4b317656",
   "metadata": {},
   "outputs": [
    {
     "data": {
      "image/png": "[encoded data removed]",
      "text/plain": [
       "<Figure size 1000x1200 with 1 Axes>"
      ]
     },
     "metadata": {},
     "output_type": "display_data"
    }
   ],
   "source": [
    "import numpy as np\n",
    "features = [i.split(\"__\")[0] for i in X.columns]\n",
    "importances = model.feature_importances_\n",
    "indices = np.argsort(importances)\n",
    "\n",
    "fig, ax = plt.subplots(figsize=(10, 12))\n",
    "plt.title('Feature Importances')\n",
    "plt.barh(range(len(indices)), importances[indices], color='b', align='center')\n",
    "plt.yticks(range(len(indices)), [features[i] for i in indices])\n",
    "plt.xlabel('Relative Importance')\n",
    "plt.show()"
   ]
  },
  {
   "cell_type": "code",
   "execution_count": null,
   "id": "3b018598",
   "metadata": {},
   "outputs": [],
   "source": []
  }
 ],
 "metadata": {
  "kernelspec": {
   "display_name": "Python 3 (ipykernel)",
   "language": "python",
   "name": "python3"
  },
  "language_info": {
   "codemirror_mode": {
    "name": "ipython",
    "version": 3
   },
   "file_extension": ".py",
   "mimetype": "text/x-python",
   "name": "python",
   "nbconvert_exporter": "python",
   "pygments_lexer": "ipython3",
   "version": "3.11.3"
  }
 },
 "nbformat": 4,
 "nbformat_minor": 5
}
